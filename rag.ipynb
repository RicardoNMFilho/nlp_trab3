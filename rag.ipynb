{
 "cells": [
  {
   "cell_type": "code",
   "execution_count": 70,
   "metadata": {},
   "outputs": [],
   "source": [
    "import torch\n",
    "import re\n",
    "from safetensors.torch import load_file"
   ]
  },
  {
   "cell_type": "code",
   "execution_count": 54,
   "metadata": {},
   "outputs": [],
   "source": [
    "from nltk.corpus import stopwords\n",
    "from nltk.tokenize import word_tokenize\n",
    "import nltk"
   ]
  },
  {
   "cell_type": "code",
   "execution_count": 55,
   "metadata": {},
   "outputs": [
    {
     "name": "stderr",
     "output_type": "stream",
     "text": [
      "[nltk_data] Downloading package punkt to\n",
      "[nltk_data]     C:\\Users\\nogue\\AppData\\Roaming\\nltk_data...\n",
      "[nltk_data]   Package punkt is already up-to-date!\n",
      "[nltk_data] Downloading package stopwords to\n",
      "[nltk_data]     C:\\Users\\nogue\\AppData\\Roaming\\nltk_data...\n",
      "[nltk_data]   Package stopwords is already up-to-date!\n"
     ]
    }
   ],
   "source": [
    "%%capture\n",
    "nltk.download('punkt')\n",
    "nltk.download('stopwords')"
   ]
  },
  {
   "cell_type": "code",
   "execution_count": 56,
   "metadata": {},
   "outputs": [],
   "source": [
    "from whoosh.index import open_dir\n",
    "from whoosh.qparser import QueryParser, OrGroup\n",
    "from transformers import AutoTokenizer, AutoModelForCausalLM"
   ]
  },
  {
   "cell_type": "code",
   "execution_count": 72,
   "metadata": {},
   "outputs": [],
   "source": [
    "safetensors_path = 'ufam_legis.safetensors'\n",
    "tokenizer_model_path = 'Autotrain\\\\autotrain-obceu-vsek1'"
   ]
  },
  {
   "cell_type": "code",
   "execution_count": 73,
   "metadata": {},
   "outputs": [],
   "source": [
    "tokenizer = AutoTokenizer.from_pretrained(tokenizer_model_path, use_safetensors=True)\n",
    "model_weights = load_file(safetensors_path)"
   ]
  },
  {
   "cell_type": "code",
   "execution_count": null,
   "metadata": {},
   "outputs": [],
   "source": [
    "model_name = \"TinyLlama/TinyLlama-1.1B-Chat-v1.0\"\n",
    "model = AutoModelForCausalLM.from_pretrained(model_name, state_dict=model_weights)"
   ]
  },
  {
   "cell_type": "code",
   "execution_count": 76,
   "metadata": {},
   "outputs": [],
   "source": [
    "%%capture\n",
    "model.to('cuda')"
   ]
  },
  {
   "cell_type": "code",
   "execution_count": 77,
   "metadata": {},
   "outputs": [],
   "source": [
    "def pre_processar_query(query):\n",
    "    stop_words = set(stopwords.words('portuguese'))\n",
    "    word_tokens = word_tokenize(query.lower())\n",
    "    filtered_query = [word for word in word_tokens if word not in stop_words]\n",
    "    return \" \".join(filtered_query)"
   ]
  },
  {
   "cell_type": "code",
   "execution_count": 78,
   "metadata": {},
   "outputs": [],
   "source": [
    "def filtrar_paragrafos_por_palavras_chave(texto, palavras_chave):\n",
    "    paragrafos = texto.split('\\n')\n",
    "    \n",
    "    paragrafos_relevantes = []\n",
    "    \n",
    "    padrao_palavras_chave = re.compile(r'\\b(?:' + '|'.join(re.escape(palavra) for palavra in palavras_chave) + r')\\b', re.IGNORECASE)\n",
    "    \n",
    "    for paragrafo in paragrafos:\n",
    "        if padrao_palavras_chave.search(paragrafo):\n",
    "            paragrafos_relevantes.append(paragrafo)\n",
    "    \n",
    "    return paragrafos_relevantes"
   ]
  },
  {
   "cell_type": "code",
   "execution_count": 79,
   "metadata": {},
   "outputs": [],
   "source": [
    "def gerar_resposta(query, index_dir, tokenizer, model, device='cuda', max_context_length=512):\n",
    "    ix = open_dir(index_dir)\n",
    "\n",
    "    query_tratada = pre_processar_query(query)\n",
    "    \n",
    "    with ix.searcher() as searcher:\n",
    "        query_parser = QueryParser(\"content\", ix.schema, group=OrGroup)\n",
    "        parsed_query = query_parser.parse(query_tratada)\n",
    "        print(f\"Query processada: {parsed_query}\")\n",
    "        \n",
    "        results = searcher.search(parsed_query, limit=4)\n",
    "        retrieved_texts = [result['content'] for result in results]\n",
    "        print(f\"Textos recuperados: {retrieved_texts}\")\n",
    "    \n",
    "    keywords = query_tratada.split()\n",
    "    \n",
    "    filtered_paragraphs = []\n",
    "    for doc in retrieved_texts:\n",
    "        filtered_paragraphs.extend(filtrar_paragrafos_por_palavras_chave(doc, keywords))\n",
    "    \n",
    "    context = \"\\n\".join(filtered_paragraphs)\n",
    "    \n",
    "    if not context:\n",
    "        return \"Nenhum parágrafo relevante encontrado com as palavras-chave fornecidas.\"\n",
    "    \n",
    "    inputs = tokenizer(context, return_tensors=\"pt\", truncation=True, max_length=max_context_length).to(device)\n",
    "    \n",
    "    input_text = f\"Pergunta: {query}\\nDocumentos relevantes: {context}\\nResposta:\"\n",
    "    \n",
    "    inputs = tokenizer(input_text, return_tensors='pt').to(device)\n",
    "\n",
    "    with torch.no_grad():\n",
    "        outputs = model.generate(\n",
    "            inputs['input_ids'],\n",
    "            max_new_tokens=200,\n",
    "            num_return_sequences=1,\n",
    "            pad_token_id=tokenizer.eos_token_id\n",
    "        )\n",
    "    \n",
    "    new_tokens = outputs[0][inputs['input_ids'].shape[1]:]\n",
    "    new_tokens_text = tokenizer.decode(new_tokens, skip_special_tokens=True)\n",
    "    \n",
    "    return new_tokens_text\n"
   ]
  },
  {
   "cell_type": "code",
   "execution_count": 80,
   "metadata": {},
   "outputs": [],
   "source": [
    "query = \"Quanto preciso tirar de nota para não fazer a prova final?\"\n",
    "index_dir = \"indexdir\""
   ]
  },
  {
   "cell_type": "code",
   "execution_count": 81,
   "metadata": {},
   "outputs": [
    {
     "name": "stdout",
     "output_type": "stream",
     "text": [
      "Query processada: (content:quanto OR content:preciso OR content:tirar OR content:nota OR content:fazer OR content:prova OR content:final OR content:?)\n",
      "Textos recuperados: ['**Resolução Nº 038/2015 - CONSEPE**\\n\\n**Título**: Regulamenta a aceleração de estudos prevista no art. 71 do Regimento Geral da Universidade Federal do Amazonas e dá outras providências.\\n\\n**Considerando**:\\n\\n* O teor do Processo nº 275/2014 - CONSEPE;\\n* O disposto no art. 47, 82º, da Lei 9.394/1996 (Lei de Diretrizes e Bases da Educação - LDB);\\n* O Parecer CNE/CES nº 60/2007;\\n* A necessidade de a UFAM regulamentar o art. 71 do Regimento Geral.\\n\\n**Artigos**:\\n\\n**CAPÍTULO I - DAS DISPOSIÇÕES GERAIS**\\n\\n* Art. 1º: O estudante regularmente matriculado na Universidade Federal do Amazonas poderá abreviar a duração do curso presencial, via aceleração dos estudos, observadas as disposições deste Regulamento.\\n* Art. 2º: A aceleração de estudos poderá ser autorizada para todos os componentes curriculares previstos no projeto pedagógico de cada Curso de Graduação.\\n* Art. 3º: Para fazer jus a aceleração, o aluno deverá comprovar extraordinário aproveitamento de estudos, aferido via exames específicos prestados perante Banca Examinadora Especial.\\n\\n**CAPÍTULO II - DO PROCESSO**\\n\\n* Art. 4º: O aluno interessado na aceleração de estudos deverá requerer a instalação do processo via pedido circunstanciado, protocolado na Coordenação do respectivo Curso de Graduação.\\n* Art. 5º: O aluno que requerer a aceleração não poderá estar em processo de jubilamento.\\n* Art. 6º: Após o exame liminar do pedido e estando preenchidos os requisitos exigidos, a Coordenação de Curso de Graduação instaurará o processo e providenciará a formação da Banca Examinadora Especial.\\n\\n**CAPÍTULO III - DA BANCA EXAMINADORA ESPECIAL**\\n\\n* Art. 8º: A Banca Examinadora Especial será composta por 3 (três) professores indicados pelo Coordenador do Curso e nomeados pelo Diretor da Unidade à qual o Curso está vinculado.\\n* Art. 9º: Caberá à Banca Examinadora Especial: definir as características, a duração da prova e o seu cronograma; definir os critérios de avaliação de desempenho do aluno; elaborar, aplicar e corrigir a prova; lavrar a Ata da realização da prova; e encaminhar os autos do processo para a Coordenação de Curso de Graduação.\\n\\n**CAPÍTULO IV - DA AVALIAÇÃO E CORREÇÃO**\\n\\n* Art. 11: A avaliação abrangerá todo o conteúdo programático da disciplina alvo da aceleração.\\n* Art. 12: A nota final do aluno será obtida da forma seguinte: cada membro da Banca Examinadora Especial atribuirá uma nota de 0,0 (zero) a 10,0 (dez) para o avaliado; à nota final corresponderá à média aritmética das notas atribuídas por cada membro da Banca Examinadora Especial.\\n* Art. 13: Comprovará extraordinário desempenho o aluno que alcance, no mínimo, a nota final 9 (nove).\\n* Art. 14: O não comparecimento do aluno à avaliação equivalerá à desistência do pedido.\\n\\n**CAPÍTULO V - DOS RECURSOS**\\n\\n* Art. 15: O aluno poderá interpor recurso contra decisão do Coordenador de Curso de Graduação que denegar pedido de aceleração de estudo; composição da Banca Examinadora Especial; e resultado final.\\n\\n**CAPÍTULO VI - DAS DISPOSIÇÕES FINAIS**\\n\\n* Art. 16: O processo de aceleração de estudo deverá ser encerrado no prazo máximo de 60 (sessenta) dias.\\n* Art. 17: Os casos omissos serão dirimidos pela Câmara de Ensino de Graduação, observada a legislação vigente.\\n* Art. 18: Este Regulamento é parte indissociável da Resolução e entrará em vigor na data de publicação daquela, revogadas as disposições em contrário.\\n', 'Aqui está a extração e organização das informações legislativas contidas no texto:\\n\\n**Resolução Nº 031, de 29 de outubro de 2015**\\n\\n**Capítulo I: Da Entrega dos Exercícios Escolares e Prova Final**\\n\\n* Art. 1º: Estabelece que todos os exercícios escolares e provas finais serão entregues ao discente após correção pelo professor.\\n* Art. 2º: Define os prazos para entrega: exercícios escolares até 30 dias após a aplicação e provas finais no dia útil seguinte ao fim da data prevista no calendário acadêmico.\\n* Art. 3º: Estabelece que o discente não realizará a prova final sem ter recebido todos os exercícios escolares e sem o conhecimento da média parcial.\\n* Art. 4º: Define o procedimento para entrega dos exercícios escolares e provas finais, incluindo a assinatura em lista de nomeação de todos os discentes matriculados na disciplina e data de entrega.\\n\\n**Capítulo II: Da Revisão dos Exercícios Escolares e Prova Final**\\n\\n* Art. 2º: Define a revisão de exercícios escolares e provas finais como o conjunto de procedimentos que permitem ao discente a revisão de suas avaliações e, se for o caso, a retificação de nota.\\n* Art. 3º: Estabelece que é direito de todo discente dos cursos de graduação da UFAM realizar o pedido de revisão de suas avaliações nos termos desta Resolução.\\n* Art. 4º: Define a fundamentação adequada para a solicitação de revisão de avaliações, incluindo a utilização de argumentos pertinentes ao conteúdo abordado.\\n* Art. 5º: Estabelece que o pedido de revisão pode ser individual ou coletivo.\\n\\n**Capítulo III: Seção I - Disposições Preliminares**\\n\\n* Art. 6º: Define o prazo comum de 03 dias úteis para solicitar a revisão da avaliação após a ciência da nota.\\n* Art. 7º: Estabelece o prazo máximo de até 10 dias úteis após a protocolização da solicitação para a análise do pedido de revisão.\\n* Art. 8º: Estabelece que a solicitação de revisão de avaliações será indeferida se não atender aos requisitos de admissibilidade estabelecidos no Art. 4º desta Resolução.\\n\\n**Capítulo III: Seção II - Dos Prazos**\\n\\n* Art. 9º: Define que a solicitação de revisão de avaliação deve ser protocolada na Coordenação do respectivo curso.\\n* Art. 10: Estabelece que o Coordenador do Curso encaminhará o processo ao professor da disciplina para análise e decisão no prazo de até 3 dias úteis após o recebimento do processo.\\n\\n**Capítulo III: Seção III - Da Admissibilidade da Solicitação de Revisão de Exercícios Escolares e Prova Final**\\n\\n* Art. 11: Define que a fundamentação deve ser escrita ou digitada e deve ser feita para cada uma das questões da avaliação a ser revisada.\\n* Art. 12: Estabelece que o discente poderá recorrer da decisão do professor se não concordar com a nota.\\n\\n**Capítulo IV: Seção IV - Do Encaminhamento da Solicitação de Revisão de Exercícios Escolares e Prova Final**\\n\\n* Art. 13: Define que a solicitação de revisão de avaliação deve ser protocolada na Coordenação do respectivo curso e que o Coordenador do Curso encaminhará o processo ao professor da disciplina para análise e decisão.\\n* Art. 14: Estabelece que o professor da disciplina deve emitir parecer contendo o deferimento ou indeferimento da(s) solicitação(ões) e indicar a motivação para tanto.\\n\\n**Capítulo IV: Seção V - Do Recurso**\\n\\n* Art. 15: Define que o discente poderá recorrer da decisão do professor se não concordar com a nota.\\n* Art. 16: Estabelece que o recurso deve ser protocolado na Coordenação do respectivo curso e que o Coordenador do Curso constituirá banca composta por 03 (três) professores para analisar os fundamentos do referido recurso.\\n* Art. 17: Estabelece que a banca analisadora é autônoma com relação aos trabalhos de reavaliação das notas e seus efeitos.\\n\\n**Capítulo IV: Seção VI - Do Resultado do Recurso**\\n\\n* Art. 18: Define que a banca analisadora emitirá parecer conclusivo acerca do deferimento ou indeferimento do recurso e que o discente não poderá mais modificar o recurso após enviado.\\n\\n**Leis e Normas**\\n\\n* Lei nº 12.527, de 18 de novembro de 2011 (Lei da Informação)\\n* Decreto nº 7.724, de 16 de maio de 2012\\n* Portaria AN/MJ nº 92, de 23 de setembro de 2011, do Arquivo Nacional/Ministério da Justiça\\n* Estatuto da UFAM\\n* Regimento Geral da Universidade Federal do Amazonas\\n* Resolução nº 021/1985 do Conselho de Ensino, Pesquisa e Extensão (CONSEPE)\\n* Portaria 0151/2012 - GR\\nA seguir, apresento as informações legislativas extraídas do texto, organizadas em seções claras e removendo conteúdo irrelevante:\\n\\n**Artigos da Resolução**\\n\\n1. Art. 22: Em caso de deferimento do recurso, a banca comunicará ao professor da disciplina a necessidade de retificação da nota atribuída ao discente e encaminhará o processo para a Coordenação de curso.\\n2. Art. 23: O discente será comunicado formalmente da data, horário e local da divulgação do resultado do recurso.\\n3. Art. 24: Após a notificação do resultado do recurso, o professor da disciplina tomará as devidas providências para a retificação da nota no sistema de registro acadêmico específico e oficial destinado a este fim, no prazo de até 2 (dois) úteis.\\n4. Art. 25: O docente não pode negar qualquer informação acerca dos critérios e da pontuação do discente que prejudique este último na realização dos procedimentos contidos nesta Resolução.\\n5. Art. 26: O descumprimento deliberado e reiterado das obrigações mencionadas nesta Resolução poderá ensejar às sanções previstas nos Artigos 122 e 123 do Regimento Geral da UFAM.\\n6. Art. 27: Os casos omissos serão resolvidos pela Câmara de Ensino de Graduação - CEG, no âmbito de sua competência.\\n7. Art. 28: Esta Resolução entra em vigor na data da sua publicação.\\n\\n**Seção IX - Registro**\\n\\nArt. 24: Após a notificação do resultado do recurso, o professor da disciplina tomará as devidas providências para a retificação da nota no sistema de registro acadêmico específico e oficial destinado a este fim, no prazo de até 2 (dois) úteis.\\n\\n**Normas Gerais**\\n\\n1. Parágrafo único: É imprescindível a ciência do discente acerca do resultado do recurso interposto, formalizada por meio de assinatura.\\n2. Art. 27: Os casos omissos serão resolvidos pela Câmara de Ensino de Graduação - CEG, no âmbito de sua competência.\\n\\n**Anexos**\\n\\n* ANEXO I - Requerimento de Revisão de Avaliação\\n* ANEXO II - Recurso da Revisão de Avaliação\\n\\n**Procedimentos**\\n\\n1. Processo de Revisão de Avaliação: O discente pode solicitar a revisão de avaliação apresentando o Requerimento de Revisão de Avaliação, que deve ser protocolado em até 03 (três) dias úteis após a divulgação da nota ao discente.\\n2. Processo de Recurso: O discente pode interpor recurso contra o parecer do professor da disciplina, apresentando o Recurso da Revisão de Avaliação, que deve ser protocolado em até 02 (dois) dias úteis após a ciência do discente.\\n', 'Aqui estão as informações legislativas extraídas e organizadas do texto:\\n\\n**Resolução Nº 010/2016/CEG/CONSEPE**\\n\\n**Título:** Regulamenta as normas para inclusão de disciplinas semipresenciais em cursos de graduação presencial da UFAM.\\n\\n**Artigos:**\\n\\n1. Aprova as normas para inclusão de disciplinas semipresenciais em cursos de graduação presencial da UFAM.\\n\\n2. Esta resolução entra em vigor a partir da sua data de aprovação, aplicando-se aos alunos a partir do semestre letivo 2016/1, revogando as disposições em contrário, especialmente a Resolução nº 009/2011/CEG/CONSEPE, de 14 de março de 2011.\\n\\n**Normas para Inclusão de Disciplinas Semipresenciais em Cursos de Graduação Presencial da UFAM**\\n\\n1. A Universidade Federal do Amazonas poderá incluir na organização pedagógica e curricular de seus cursos de graduação, na modalidade presencial, a oferta de disciplinas ou componentes curriculares integrantes do currículo que utilizem a modalidade semipresencial.\\n\\n2. A disciplina semipresencial caracteriza-se por sua organização didática em módulos ou unidades centrados na autoaprendizagem, com a mediação de recursos didáticos organizados em diferentes suportes de informação que utilizam tecnologias de comunicação remota, complementados com encontros presenciais.\\n\\n3. As disciplinas semipresenciais poderão ser ofertadas, integral ou parcialmente, desde que essa oferta não ultrapasse 20% (vinte por cento) da carga horária total do respectivo curso.\\n\\n4. As disciplinas oferecidas na modalidade semipresencial deverão ser organizadas incluindo métodos e práticas de autoaprendizagem e que incorporem o uso integrado de Tecnologias da Informação e Comunicação (TIC) por meio de Ambiente Virtual de Aprendizagem (AVA).\\n\\n5. A inclusão de componentes curriculares semipresenciais em cursos de graduação presencial da UFAM tem por objetivos:\\n\\t* Desenvolver uma cultura institucional quanto ao uso das Tecnologias da Informação e Comunicação (TIC), como estratégias didático-metodológicas, visando à melhoria da qualidade de ensino nos cursos de graduação;\\n\\t* Oportunizar aos discentes maior flexibilização no seu processo de aprendizagem e desenvolvimento de competências e habilidades que possibilitem aprender de forma autônoma;\\n\\t* Possibilitar ao corpo docente, por meio de incorporação de tecnologias, a adoção de diferentes práticas pedagógicas no processo de ensino-aprendizagem.\\n\\n6. Para ministrar disciplinas na modalidade semipresencial, o professor deve possuir capacitação específica para a docência na Educação a Distância (EaD) e para o Ambiente Virtual de Aprendizagem (AVA), obtido em curso reconhecido ou credenciado pelo Ministério da Educação.\\n\\n7. Compete ao coordenador do curso solicitar a atualização dos Projetos Político-Pedagógicos, descrevendo na sua concepção metodológica a inclusão das “Disciplinas Semipresenciais”, que deve conter a finalidade e intencionalidade de introdução de disciplinas na modalidade semipresencial.\\n\\n8. O professor que oferecer disciplinas na modalidade semipresencial deve, preferencialmente, desenvolver as atividades da respectiva disciplina nas dependências da UFAM e no horário estabelecido no plano de ensino.\\n\\n9. Os instrumentos de avaliação do rendimento acadêmico dos estudantes da disciplina semipresencial devem seguir o estabelecido no plano de ensino e as recomendações do Projeto Pedagógico do Curso, com prova final presencial obrigatória.\\n\\n10. Caberá ao Núcleo Docente Estruturante de cada curso de graduação a iniciativa de inclusão da disciplina semipresencial para compor a organização curricular e pedagógica do curso, como atividade obrigatória ou optativa, mediante aprovação do Colegiado do Curso e da Câmara de Ensino de Graduação, observando as seguintes condições:\\n\\t* A inclusão de disciplinas semipresenciais para a integralização curricular do curso deve obedecer a critérios específicos, em atendimento a exigências e flexibilidades peculiares ao curso;\\n\\t* O aproveitamento de disciplinas semipresenciais para integralização curricular do curso, no histórico escolar de cada estudante, não pode ultrapassar o limite de 20% da carga horária total exigida.\\n\\n11. A disciplina semipresencial deve ser avaliada pelo Núcleo Docente Estruturante e pelo Colegiado do Curso ao qual está vinculada, com apoio do CED, utilizando metodologia própria e considerando sua especificidade, cujo resultado dessa avaliação deve ser encaminhado à Pró-Reitoria de Ensino de Graduação, Departamentos/Colegiados e Coordenações dos Cursos envolvidos.\\n\\n12. A UFAM assegurará as condições de utilização das ferramentas pelos docentes e discentes na execução das atividades.\\n\\n13. Os casos omissos devem ser submetidos à PROEG para as providências que se fizerem necessárias.\\n', '**Resolução n° 035, de 27 de outubro de 2022 - Regulamenta os procedimentos relativos às atividades práticas no âmbito dos cursos de graduação da UFAM, nas modalidades presencial e a distância.**\\n\\n**Capítulo I - Das Disposições Gerais**\\n\\n* Art. 1º: Define como atividades práticas, no âmbito dos cursos de graduação da UFAM, nas modalidades presencial e a distância, todas as atividades didático-pedagógicas de natureza prática, realizadas dentro ou fora da sala de aula, cuja finalidade é contribuir para a formação do discente e sua atuação no ambiente profissional, permitindo constante aperfeiçoamento e atualização.\\n* Art. 2º: Compreendem as atividades práticas:\\n\\t+ I - Visita técnica;\\n\\t+ II - Prática de campo;\\n\\t+ III - Prática como componente curricular;\\n\\t+ IV - Aula prática;\\n* ... (continua na próxima seção)\\n\\n**Capítulo II - Da Visita Técnica**\\n\\n* Art. 5º: A visita técnica deverá estar prevista no Plano de Ensino do componente curricular, o qual deve estar devidamente aprovado pelo Colegiado do Curso.\\n* Art. 6º: São objetivos da visita técnica:\\n\\t+ I - Conduzir os discentes a estabelecer articulação entre o conteúdo teórico e prático;\\n\\t+ II - Exercitar as habilidades de observação, análise e crítica;\\n\\t+ III - Interagir criativamente em face dos diferentes contextos técnicos e produções;\\n\\t+ IV - Desenvolver o alinhamento do conhecimento sistematizado com a ação profissional;\\n\\t+ V - Buscar o desenvolvimento da visão sistêmica laboral;\\n\\t+ VI - Interagir com os diferentes profissionais da área e das outras áreas de conhecimento, com vistas a ampliar e aprofundar o conhecimento profissional por meio da interdisciplinaridade e da interprofissionalidade;\\n\\t+ VII - Estimular o discente à pesquisa científica e a pesquisa de campo no futuro ambiente de trabalho.\\n* Art. 7º: São atribuições do docente responsável pela visita técnica:\\n\\t+ I - Intermediar, junto à empresa e/ou órgão concedente, a autorização da visita técnica, assim como a(s) data(s) e horário(s);\\n\\t+ II - Encaminhar à Coordenação de Curso, via SEI, solicitação de visita técnica, em até 10 (dez) dias úteis antes da realização desta, informando data(s), horário(s), local(is) pretendido(s) e dados do(s) responsável(is) pela autorização da visita técnica junto à empresa e/ou órgão concedente;\\n\\t+ ... (continua na próxima seção)\\n\\n**Capítulo III - Da Prática de Campo**\\n\\n* Art. 10: A prática de campo deverá estar prevista no Plano de Ensino do componente curricular e no Projeto de Prática de Campo, que devem estar devidamente aprovados pelo Colegiado do Curso.\\n* Art. 11: ... (acontecimento irregular)\\n\\n**Nota:** O texto apresentado é a extractora e organização das informações legislativas presentes na resolução. Quaisquer erros ou inconsistências foram corrigidos e normalizados para facilitar a compreensão.\\n**Artigo 12 - Objetivos da Práctica de Campo**\\n\\n* Contribuir para a melhoria da qualidade do ensino;\\n* Assegurar o desenvolvimento de competências específicas para o exercício profissional, em conformidade com a proposta pedagógica do curso;\\n* Desenvolver habilidades práticas previstas no plano de ensino do componente curricular;\\n* Promover a articulação entre teoria e prática.\\n\\n**Artigo 13 - Atribuições do Docente Responsável**\\n\\n* Submeter o pedido de práctica de campo à Direção ou Coordenação Administração da Unidade Acadêmica;\\n* Instruir o processo com documentos obrigatórios (projeto de práctica de campo, plano de ensino do componente curricular, ata de reunião do Colegiado de Curso, etc.);\\n* Conceder diárias para docentes e técnicos participantes;\\n* Cancelar o agendamento da práctica de campo em caso de impedimento;\\n* Zelar pela segurança dos participantes;\\n* Não permitir a participação de pessoas que não estejam envolvidas na práctica;\\n* Orientar os discentes quanto a protocolos de segurança e hora de permanência no local da práctica;\\n* Responsabilizar-se pelo cumprimento dos objetivos e atividades previstos no projeto;\\n* Encaminhar o Relatório Final de Práctica de Campo à Coordenação de Curso.\\n\\n**Artigo 14 - Atribuições da Direção ou Coordenação Administração da Unidade Acadêmica**\\n\\n* Conferir se o pedido de práctica de campo está dentro do prazo de submissão e se o processo está devidamente instruído;\\n* Cascadar os discentes que irão receber ajuda de custo em Lista de Credores (LC) gerada pelo Sistema Integrado de Administração Financeira (SIAFI);\\n* Solicitar diárias para docentes/técnicos envolvidos na práctica de campo;\\n* Realizar ATESTE (documento que confirma a veracidade das informações);\\n* Realizar INFORMAÇÃO (documento que fornece informações sobre a práctica de campo);\\n* Solicitar pagamento de ajuda de custo para os discentes envolvidos na práctica de campo;\\n* Encaminhar o processo à PROADM.\\n\\n**Artigo 15 - Atribuições da Coordenação de Curso**\\n\\n* Analisar se a carga horária da práctica de campo está adequada à carga horária de aulas práticas prevista para o componente curricular no PPC;\\n* Apreciar e deliberar sobre o Relatório Final de Atividades da Práctica de Campo do docente responsável.\\n\\n**Artigo 16 - Atribuições dos Discentes**\\n\\n* Confirmar sua participação na práctica de campo;\\n* Informar data de nascimento, número do CPF, número da agência e conta corrente;\\n* Não consumir bebidas alcoólicas e/ou quaisquer substâncias entorpecentes durante as atividades.\\n\\n**Artigo 17 - Devolução de Valores**\\n\\n* Caso algum dos envolvidos na práctica de campo tenha recebido valores de diárias ou ajuda de custo e não tenha participado da atividade, o docente responsável deve solicitar ao DFIN/PROPLAN emissão de GRU para fins de devolução dos valores recebidos.\\n\\n**CAPÍTULO IV - A Prática como Componente Curricular**\\n\\n* A práctica como componente curricular será realizada no ambiente da Insituição formadora e/ou, preferencialmente, no ambiente da escola;\\n* A práctica como componente curricular deve configurar nas matrizes curriculares dos cursos de licenciatura com carga horária mínima de 400 (quatrocentas) horas;\\n* Os cursos de licenciatura que tenham definido carga horária para a práctica como componente curricular inferior a 400 (quatrocentas) horas devem ajustar-se, imediatamente, ao que prevê essa normatização.\\n\\n**Artigo 18 - Objetivos da Prática como Componente Curricular**\\n\\n* Promover a aplicação dos conhecimentos advindos do curso de licenciatura em atividades técnico-pedagógicas de ensino desenvolvidas;\\n* Aproximar os discentes da realidade escolar, levando-os a compreender as problemáticas e complexidades existentes no contexto da escola;\\n* Envolver os discentes em atividades desenvolvidas por docentes atuantes na escola de educação básica, com vistas a aperfeiçoar o planejamento, execução e avaliação do processo ensino-aprendizagem;\\n* Conhecer a instituição escolar no plano organizacional com base em seu Projeto Político Pedagógico (PPP);\\n* Assegurar o exercício permanente da pesquisa nos ambientes escolares para compreender o ato de planejar, executar e avaliar situações de ensino-aprendizagem.\\n\\n**Artigo 20 - A Prática como Componente Curricular**\\n\\n* A práctica como componente curricular deve constar do Plano de Ensino do componente curricular, aprovado pelo Colegiado do Curso.\\n* A práctica como componente curricular deve estar contemplada no PPC, com tempo e espaço curricular específico.\\n\\n**Artigo 21**\\n\\n(Contém informações que não podem ser extraídas, pois são irrelevantes para as informações legislativas)\\nAqui estão as informações legislativas extraídas e organizadas em seções claras:\\n\\n**Componente Curricular de Práctica**\\n\\n* São atribuições do docente responsável pela práctica:\\n\\t+ Promover o desenvolvimento da práctica como componente curricular;\\n\\t+ Acompanhar os discentes no cumprimento das atividades propostas;\\n\\t+ Desenvolver a avaliação do componente curricular voltada para o desempenho do discente.\\n* Avaliação do desempenho do discente será conduzida pelo docente responsável pela práctica.\\n\\n**Coordenações dos Cursos de Licenciaturas**\\n\\n* São atribuições das Coordenações dos Cursos de licenciaturas:\\n\\t+ Acompanhar a elaboração do Plano de Trabalho Semestral de Práctica pelo docente responsável;\\n\\t+ Promover avaliações semestrais no âmbito do NDE e do colegiado de curso, sobre o desenvolvimento do componente curricular.\\n* Caberá ao NDE e Colegiado do Curso de cada licenciatura nomear uma comissão de práctica como componente curricular, cuja responsabilidade será a de organizar as diretrizes do componente curricular de modo a abrigar as especificidades do curso, bem como regulamentar atos que não tenham sido abordados nesta Portaria.\\n\\n**Aula Prática**\\n\\n* Art. 23: A aula prática deverá estar prevista no Plano de Ensino do componente curricular.\\n* Art. 24: Objetivos da aula prática:\\n\\t+ Contemplar a compreensão teórico-prática e consolidar a formação profissional do acadêmico;\\n\\t+ Desenvolver a capacidade de reflexão, construção de ideias e atitudes, além do conhecimento de procedimentos;\\n\\t+ Proporcionar a fixação dos conceitos apresentados nas aulas teóricas, principalmente os mais abstratos;\\n\\t+ Possibilitar o desenvolvimento de habilidades em investigações científicas e análise de dados.\\n\\n**Coordenação de Curso**\\n\\n* São atribuições do docente responsável pela aula prática:\\n\\t+ Planejamento, execução e avaliação da aula prática;\\n\\t+ Caso a aula prática seja realizada em laboratório estruturado: agendar com o técnico responsável pelo laboratório, cumprir e fazer cumprir as normas de utilização do laboratório, responsabilizar-se pelo uso correto e racional dos materiais, insumos e equipamentos.\\n* São atribuições da Coordenação de Curso para aula prática:\\n\\t+ Analisar se a carga horária da aula prática está adequada à carga horária prevista para o componente curricular no PPC;\\n\\t+ Supervisionar os trabalhos desenvolvidos pelo(s) técnico(s) de laboratório;\\n\\t+ Acompanhar a execução do cronograma de agendamento de aulas práticas em laboratório;\\n\\t+ Zelar pelas condições de usabilidade dos laboratórios, solicitando à Direção da Unidade Acadêmica ou Coordenação Administraiva aquisição de materiais, insumos e equipamentos, bem como reparos naqueles que não estejam em condições de uso.\\n\\n**Disposições Finais e Transitorias**\\n\\n* Art. 27: O pagamento de diárias e ajuda de custo, quando cabível, deverão estar em conformidade com a legislação federal vigente e com as normas da UFAM.\\n* Art. 28: Os possíveis danos causados aos entes públicos e/ou privados e/ou pessoas físicas, de natureza patrimonial e/ou extrapatrimonial, decorrentes das atividades práticas, serão apurados em conformidade com a legislação vigente.\\n* Art. 29: A carga horária a ser computada por turno não deverá exceder 4 horas/aula, bem como o limite diário para o cômputo da carga horária deve ser de 8 horas/aula para cada docente participante da práctica, respeitando o limite da carga horária máxima para as aulas práticas informadas no PPC para o respectivo componente curricular.\\n* Art. 30: O controle e acompanhamento da execução orçamentária serão realizados pela PROEG, até a descentralização orçamentária do custeio das práticas de campo, e posteriormente pelas Unidades Acadêmicas.\\n* Art. 31: Os casos omissos nesta Resolução serão resolvidos pela Pró-Reitoria de Ensino de Graduação.\\n* Art. 32: A presente Resolução entra em vigor na data de sua publicação, revogando-se a Portaria PROEG nº 57, de 27 de agosto de 2019 e demais disposições em contrário.\\n']\n"
     ]
    }
   ],
   "source": [
    "response = gerar_resposta(query, index_dir, tokenizer, model)\n",
    "print(response)"
   ]
  }
 ],
 "metadata": {
  "kernelspec": {
   "display_name": ".venv",
   "language": "python",
   "name": "python3"
  },
  "language_info": {
   "codemirror_mode": {
    "name": "ipython",
    "version": 3
   },
   "file_extension": ".py",
   "mimetype": "text/x-python",
   "name": "python",
   "nbconvert_exporter": "python",
   "pygments_lexer": "ipython3",
   "version": "3.12.3"
  }
 },
 "nbformat": 4,
 "nbformat_minor": 2
}
