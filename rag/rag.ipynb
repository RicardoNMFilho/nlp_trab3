{
 "cells": [
  {
   "cell_type": "code",
   "execution_count": 2,
   "metadata": {},
   "outputs": [
    {
     "name": "stderr",
     "output_type": "stream",
     "text": [
      "c:\\Users\\nogue\\OneDrive\\Documentos\\UFAM\\NLP\\.venv\\Lib\\site-packages\\tqdm\\auto.py:21: TqdmWarning: IProgress not found. Please update jupyter and ipywidgets. See https://ipywidgets.readthedocs.io/en/stable/user_install.html\n",
      "  from .autonotebook import tqdm as notebook_tqdm\n"
     ]
    }
   ],
   "source": [
    "from transformers import AutoModel, AutoTokenizer\n",
    "from safetensors.torch import load_file\n",
    "import torch\n",
    "from transformers import LlamaForCausalLM"
   ]
  },
  {
   "cell_type": "code",
   "execution_count": 3,
   "metadata": {},
   "outputs": [],
   "source": [
    "model_path = \"ufam_legis.safetensors\""
   ]
  },
  {
   "cell_type": "code",
   "execution_count": 4,
   "metadata": {},
   "outputs": [],
   "source": [
    "tokenizer_path = \"tokenizer\""
   ]
  },
  {
   "cell_type": "code",
   "execution_count": 5,
   "metadata": {},
   "outputs": [],
   "source": [
    "tokenizer = AutoTokenizer.from_pretrained(tokenizer_path)"
   ]
  },
  {
   "cell_type": "code",
   "execution_count": 6,
   "metadata": {},
   "outputs": [],
   "source": [
    "state_dict = load_file(model_path)"
   ]
  },
  {
   "cell_type": "code",
   "execution_count": 7,
   "metadata": {},
   "outputs": [
    {
     "name": "stderr",
     "output_type": "stream",
     "text": [
      "Some weights of the model checkpoint at TinyLlama/TinyLlama-1.1B-Chat-v1.0 were not used when initializing LlamaForCausalLM: ['base_model.model.model.layers.0.mlp.down_proj.lora_A.weight', 'base_model.model.model.layers.0.mlp.down_proj.lora_B.weight', 'base_model.model.model.layers.0.mlp.gate_proj.lora_A.weight', 'base_model.model.model.layers.0.mlp.gate_proj.lora_B.weight', 'base_model.model.model.layers.0.mlp.up_proj.lora_A.weight', 'base_model.model.model.layers.0.mlp.up_proj.lora_B.weight', 'base_model.model.model.layers.0.self_attn.k_proj.lora_A.weight', 'base_model.model.model.layers.0.self_attn.k_proj.lora_B.weight', 'base_model.model.model.layers.0.self_attn.o_proj.lora_A.weight', 'base_model.model.model.layers.0.self_attn.o_proj.lora_B.weight', 'base_model.model.model.layers.0.self_attn.q_proj.lora_A.weight', 'base_model.model.model.layers.0.self_attn.q_proj.lora_B.weight', 'base_model.model.model.layers.0.self_attn.v_proj.lora_A.weight', 'base_model.model.model.layers.0.self_attn.v_proj.lora_B.weight', 'base_model.model.model.layers.1.mlp.down_proj.lora_A.weight', 'base_model.model.model.layers.1.mlp.down_proj.lora_B.weight', 'base_model.model.model.layers.1.mlp.gate_proj.lora_A.weight', 'base_model.model.model.layers.1.mlp.gate_proj.lora_B.weight', 'base_model.model.model.layers.1.mlp.up_proj.lora_A.weight', 'base_model.model.model.layers.1.mlp.up_proj.lora_B.weight', 'base_model.model.model.layers.1.self_attn.k_proj.lora_A.weight', 'base_model.model.model.layers.1.self_attn.k_proj.lora_B.weight', 'base_model.model.model.layers.1.self_attn.o_proj.lora_A.weight', 'base_model.model.model.layers.1.self_attn.o_proj.lora_B.weight', 'base_model.model.model.layers.1.self_attn.q_proj.lora_A.weight', 'base_model.model.model.layers.1.self_attn.q_proj.lora_B.weight', 'base_model.model.model.layers.1.self_attn.v_proj.lora_A.weight', 'base_model.model.model.layers.1.self_attn.v_proj.lora_B.weight', 'base_model.model.model.layers.10.mlp.down_proj.lora_A.weight', 'base_model.model.model.layers.10.mlp.down_proj.lora_B.weight', 'base_model.model.model.layers.10.mlp.gate_proj.lora_A.weight', 'base_model.model.model.layers.10.mlp.gate_proj.lora_B.weight', 'base_model.model.model.layers.10.mlp.up_proj.lora_A.weight', 'base_model.model.model.layers.10.mlp.up_proj.lora_B.weight', 'base_model.model.model.layers.10.self_attn.k_proj.lora_A.weight', 'base_model.model.model.layers.10.self_attn.k_proj.lora_B.weight', 'base_model.model.model.layers.10.self_attn.o_proj.lora_A.weight', 'base_model.model.model.layers.10.self_attn.o_proj.lora_B.weight', 'base_model.model.model.layers.10.self_attn.q_proj.lora_A.weight', 'base_model.model.model.layers.10.self_attn.q_proj.lora_B.weight', 'base_model.model.model.layers.10.self_attn.v_proj.lora_A.weight', 'base_model.model.model.layers.10.self_attn.v_proj.lora_B.weight', 'base_model.model.model.layers.11.mlp.down_proj.lora_A.weight', 'base_model.model.model.layers.11.mlp.down_proj.lora_B.weight', 'base_model.model.model.layers.11.mlp.gate_proj.lora_A.weight', 'base_model.model.model.layers.11.mlp.gate_proj.lora_B.weight', 'base_model.model.model.layers.11.mlp.up_proj.lora_A.weight', 'base_model.model.model.layers.11.mlp.up_proj.lora_B.weight', 'base_model.model.model.layers.11.self_attn.k_proj.lora_A.weight', 'base_model.model.model.layers.11.self_attn.k_proj.lora_B.weight', 'base_model.model.model.layers.11.self_attn.o_proj.lora_A.weight', 'base_model.model.model.layers.11.self_attn.o_proj.lora_B.weight', 'base_model.model.model.layers.11.self_attn.q_proj.lora_A.weight', 'base_model.model.model.layers.11.self_attn.q_proj.lora_B.weight', 'base_model.model.model.layers.11.self_attn.v_proj.lora_A.weight', 'base_model.model.model.layers.11.self_attn.v_proj.lora_B.weight', 'base_model.model.model.layers.12.mlp.down_proj.lora_A.weight', 'base_model.model.model.layers.12.mlp.down_proj.lora_B.weight', 'base_model.model.model.layers.12.mlp.gate_proj.lora_A.weight', 'base_model.model.model.layers.12.mlp.gate_proj.lora_B.weight', 'base_model.model.model.layers.12.mlp.up_proj.lora_A.weight', 'base_model.model.model.layers.12.mlp.up_proj.lora_B.weight', 'base_model.model.model.layers.12.self_attn.k_proj.lora_A.weight', 'base_model.model.model.layers.12.self_attn.k_proj.lora_B.weight', 'base_model.model.model.layers.12.self_attn.o_proj.lora_A.weight', 'base_model.model.model.layers.12.self_attn.o_proj.lora_B.weight', 'base_model.model.model.layers.12.self_attn.q_proj.lora_A.weight', 'base_model.model.model.layers.12.self_attn.q_proj.lora_B.weight', 'base_model.model.model.layers.12.self_attn.v_proj.lora_A.weight', 'base_model.model.model.layers.12.self_attn.v_proj.lora_B.weight', 'base_model.model.model.layers.13.mlp.down_proj.lora_A.weight', 'base_model.model.model.layers.13.mlp.down_proj.lora_B.weight', 'base_model.model.model.layers.13.mlp.gate_proj.lora_A.weight', 'base_model.model.model.layers.13.mlp.gate_proj.lora_B.weight', 'base_model.model.model.layers.13.mlp.up_proj.lora_A.weight', 'base_model.model.model.layers.13.mlp.up_proj.lora_B.weight', 'base_model.model.model.layers.13.self_attn.k_proj.lora_A.weight', 'base_model.model.model.layers.13.self_attn.k_proj.lora_B.weight', 'base_model.model.model.layers.13.self_attn.o_proj.lora_A.weight', 'base_model.model.model.layers.13.self_attn.o_proj.lora_B.weight', 'base_model.model.model.layers.13.self_attn.q_proj.lora_A.weight', 'base_model.model.model.layers.13.self_attn.q_proj.lora_B.weight', 'base_model.model.model.layers.13.self_attn.v_proj.lora_A.weight', 'base_model.model.model.layers.13.self_attn.v_proj.lora_B.weight', 'base_model.model.model.layers.14.mlp.down_proj.lora_A.weight', 'base_model.model.model.layers.14.mlp.down_proj.lora_B.weight', 'base_model.model.model.layers.14.mlp.gate_proj.lora_A.weight', 'base_model.model.model.layers.14.mlp.gate_proj.lora_B.weight', 'base_model.model.model.layers.14.mlp.up_proj.lora_A.weight', 'base_model.model.model.layers.14.mlp.up_proj.lora_B.weight', 'base_model.model.model.layers.14.self_attn.k_proj.lora_A.weight', 'base_model.model.model.layers.14.self_attn.k_proj.lora_B.weight', 'base_model.model.model.layers.14.self_attn.o_proj.lora_A.weight', 'base_model.model.model.layers.14.self_attn.o_proj.lora_B.weight', 'base_model.model.model.layers.14.self_attn.q_proj.lora_A.weight', 'base_model.model.model.layers.14.self_attn.q_proj.lora_B.weight', 'base_model.model.model.layers.14.self_attn.v_proj.lora_A.weight', 'base_model.model.model.layers.14.self_attn.v_proj.lora_B.weight', 'base_model.model.model.layers.15.mlp.down_proj.lora_A.weight', 'base_model.model.model.layers.15.mlp.down_proj.lora_B.weight', 'base_model.model.model.layers.15.mlp.gate_proj.lora_A.weight', 'base_model.model.model.layers.15.mlp.gate_proj.lora_B.weight', 'base_model.model.model.layers.15.mlp.up_proj.lora_A.weight', 'base_model.model.model.layers.15.mlp.up_proj.lora_B.weight', 'base_model.model.model.layers.15.self_attn.k_proj.lora_A.weight', 'base_model.model.model.layers.15.self_attn.k_proj.lora_B.weight', 'base_model.model.model.layers.15.self_attn.o_proj.lora_A.weight', 'base_model.model.model.layers.15.self_attn.o_proj.lora_B.weight', 'base_model.model.model.layers.15.self_attn.q_proj.lora_A.weight', 'base_model.model.model.layers.15.self_attn.q_proj.lora_B.weight', 'base_model.model.model.layers.15.self_attn.v_proj.lora_A.weight', 'base_model.model.model.layers.15.self_attn.v_proj.lora_B.weight', 'base_model.model.model.layers.16.mlp.down_proj.lora_A.weight', 'base_model.model.model.layers.16.mlp.down_proj.lora_B.weight', 'base_model.model.model.layers.16.mlp.gate_proj.lora_A.weight', 'base_model.model.model.layers.16.mlp.gate_proj.lora_B.weight', 'base_model.model.model.layers.16.mlp.up_proj.lora_A.weight', 'base_model.model.model.layers.16.mlp.up_proj.lora_B.weight', 'base_model.model.model.layers.16.self_attn.k_proj.lora_A.weight', 'base_model.model.model.layers.16.self_attn.k_proj.lora_B.weight', 'base_model.model.model.layers.16.self_attn.o_proj.lora_A.weight', 'base_model.model.model.layers.16.self_attn.o_proj.lora_B.weight', 'base_model.model.model.layers.16.self_attn.q_proj.lora_A.weight', 'base_model.model.model.layers.16.self_attn.q_proj.lora_B.weight', 'base_model.model.model.layers.16.self_attn.v_proj.lora_A.weight', 'base_model.model.model.layers.16.self_attn.v_proj.lora_B.weight', 'base_model.model.model.layers.17.mlp.down_proj.lora_A.weight', 'base_model.model.model.layers.17.mlp.down_proj.lora_B.weight', 'base_model.model.model.layers.17.mlp.gate_proj.lora_A.weight', 'base_model.model.model.layers.17.mlp.gate_proj.lora_B.weight', 'base_model.model.model.layers.17.mlp.up_proj.lora_A.weight', 'base_model.model.model.layers.17.mlp.up_proj.lora_B.weight', 'base_model.model.model.layers.17.self_attn.k_proj.lora_A.weight', 'base_model.model.model.layers.17.self_attn.k_proj.lora_B.weight', 'base_model.model.model.layers.17.self_attn.o_proj.lora_A.weight', 'base_model.model.model.layers.17.self_attn.o_proj.lora_B.weight', 'base_model.model.model.layers.17.self_attn.q_proj.lora_A.weight', 'base_model.model.model.layers.17.self_attn.q_proj.lora_B.weight', 'base_model.model.model.layers.17.self_attn.v_proj.lora_A.weight', 'base_model.model.model.layers.17.self_attn.v_proj.lora_B.weight', 'base_model.model.model.layers.18.mlp.down_proj.lora_A.weight', 'base_model.model.model.layers.18.mlp.down_proj.lora_B.weight', 'base_model.model.model.layers.18.mlp.gate_proj.lora_A.weight', 'base_model.model.model.layers.18.mlp.gate_proj.lora_B.weight', 'base_model.model.model.layers.18.mlp.up_proj.lora_A.weight', 'base_model.model.model.layers.18.mlp.up_proj.lora_B.weight', 'base_model.model.model.layers.18.self_attn.k_proj.lora_A.weight', 'base_model.model.model.layers.18.self_attn.k_proj.lora_B.weight', 'base_model.model.model.layers.18.self_attn.o_proj.lora_A.weight', 'base_model.model.model.layers.18.self_attn.o_proj.lora_B.weight', 'base_model.model.model.layers.18.self_attn.q_proj.lora_A.weight', 'base_model.model.model.layers.18.self_attn.q_proj.lora_B.weight', 'base_model.model.model.layers.18.self_attn.v_proj.lora_A.weight', 'base_model.model.model.layers.18.self_attn.v_proj.lora_B.weight', 'base_model.model.model.layers.19.mlp.down_proj.lora_A.weight', 'base_model.model.model.layers.19.mlp.down_proj.lora_B.weight', 'base_model.model.model.layers.19.mlp.gate_proj.lora_A.weight', 'base_model.model.model.layers.19.mlp.gate_proj.lora_B.weight', 'base_model.model.model.layers.19.mlp.up_proj.lora_A.weight', 'base_model.model.model.layers.19.mlp.up_proj.lora_B.weight', 'base_model.model.model.layers.19.self_attn.k_proj.lora_A.weight', 'base_model.model.model.layers.19.self_attn.k_proj.lora_B.weight', 'base_model.model.model.layers.19.self_attn.o_proj.lora_A.weight', 'base_model.model.model.layers.19.self_attn.o_proj.lora_B.weight', 'base_model.model.model.layers.19.self_attn.q_proj.lora_A.weight', 'base_model.model.model.layers.19.self_attn.q_proj.lora_B.weight', 'base_model.model.model.layers.19.self_attn.v_proj.lora_A.weight', 'base_model.model.model.layers.19.self_attn.v_proj.lora_B.weight', 'base_model.model.model.layers.2.mlp.down_proj.lora_A.weight', 'base_model.model.model.layers.2.mlp.down_proj.lora_B.weight', 'base_model.model.model.layers.2.mlp.gate_proj.lora_A.weight', 'base_model.model.model.layers.2.mlp.gate_proj.lora_B.weight', 'base_model.model.model.layers.2.mlp.up_proj.lora_A.weight', 'base_model.model.model.layers.2.mlp.up_proj.lora_B.weight', 'base_model.model.model.layers.2.self_attn.k_proj.lora_A.weight', 'base_model.model.model.layers.2.self_attn.k_proj.lora_B.weight', 'base_model.model.model.layers.2.self_attn.o_proj.lora_A.weight', 'base_model.model.model.layers.2.self_attn.o_proj.lora_B.weight', 'base_model.model.model.layers.2.self_attn.q_proj.lora_A.weight', 'base_model.model.model.layers.2.self_attn.q_proj.lora_B.weight', 'base_model.model.model.layers.2.self_attn.v_proj.lora_A.weight', 'base_model.model.model.layers.2.self_attn.v_proj.lora_B.weight', 'base_model.model.model.layers.20.mlp.down_proj.lora_A.weight', 'base_model.model.model.layers.20.mlp.down_proj.lora_B.weight', 'base_model.model.model.layers.20.mlp.gate_proj.lora_A.weight', 'base_model.model.model.layers.20.mlp.gate_proj.lora_B.weight', 'base_model.model.model.layers.20.mlp.up_proj.lora_A.weight', 'base_model.model.model.layers.20.mlp.up_proj.lora_B.weight', 'base_model.model.model.layers.20.self_attn.k_proj.lora_A.weight', 'base_model.model.model.layers.20.self_attn.k_proj.lora_B.weight', 'base_model.model.model.layers.20.self_attn.o_proj.lora_A.weight', 'base_model.model.model.layers.20.self_attn.o_proj.lora_B.weight', 'base_model.model.model.layers.20.self_attn.q_proj.lora_A.weight', 'base_model.model.model.layers.20.self_attn.q_proj.lora_B.weight', 'base_model.model.model.layers.20.self_attn.v_proj.lora_A.weight', 'base_model.model.model.layers.20.self_attn.v_proj.lora_B.weight', 'base_model.model.model.layers.21.mlp.down_proj.lora_A.weight', 'base_model.model.model.layers.21.mlp.down_proj.lora_B.weight', 'base_model.model.model.layers.21.mlp.gate_proj.lora_A.weight', 'base_model.model.model.layers.21.mlp.gate_proj.lora_B.weight', 'base_model.model.model.layers.21.mlp.up_proj.lora_A.weight', 'base_model.model.model.layers.21.mlp.up_proj.lora_B.weight', 'base_model.model.model.layers.21.self_attn.k_proj.lora_A.weight', 'base_model.model.model.layers.21.self_attn.k_proj.lora_B.weight', 'base_model.model.model.layers.21.self_attn.o_proj.lora_A.weight', 'base_model.model.model.layers.21.self_attn.o_proj.lora_B.weight', 'base_model.model.model.layers.21.self_attn.q_proj.lora_A.weight', 'base_model.model.model.layers.21.self_attn.q_proj.lora_B.weight', 'base_model.model.model.layers.21.self_attn.v_proj.lora_A.weight', 'base_model.model.model.layers.21.self_attn.v_proj.lora_B.weight', 'base_model.model.model.layers.3.mlp.down_proj.lora_A.weight', 'base_model.model.model.layers.3.mlp.down_proj.lora_B.weight', 'base_model.model.model.layers.3.mlp.gate_proj.lora_A.weight', 'base_model.model.model.layers.3.mlp.gate_proj.lora_B.weight', 'base_model.model.model.layers.3.mlp.up_proj.lora_A.weight', 'base_model.model.model.layers.3.mlp.up_proj.lora_B.weight', 'base_model.model.model.layers.3.self_attn.k_proj.lora_A.weight', 'base_model.model.model.layers.3.self_attn.k_proj.lora_B.weight', 'base_model.model.model.layers.3.self_attn.o_proj.lora_A.weight', 'base_model.model.model.layers.3.self_attn.o_proj.lora_B.weight', 'base_model.model.model.layers.3.self_attn.q_proj.lora_A.weight', 'base_model.model.model.layers.3.self_attn.q_proj.lora_B.weight', 'base_model.model.model.layers.3.self_attn.v_proj.lora_A.weight', 'base_model.model.model.layers.3.self_attn.v_proj.lora_B.weight', 'base_model.model.model.layers.4.mlp.down_proj.lora_A.weight', 'base_model.model.model.layers.4.mlp.down_proj.lora_B.weight', 'base_model.model.model.layers.4.mlp.gate_proj.lora_A.weight', 'base_model.model.model.layers.4.mlp.gate_proj.lora_B.weight', 'base_model.model.model.layers.4.mlp.up_proj.lora_A.weight', 'base_model.model.model.layers.4.mlp.up_proj.lora_B.weight', 'base_model.model.model.layers.4.self_attn.k_proj.lora_A.weight', 'base_model.model.model.layers.4.self_attn.k_proj.lora_B.weight', 'base_model.model.model.layers.4.self_attn.o_proj.lora_A.weight', 'base_model.model.model.layers.4.self_attn.o_proj.lora_B.weight', 'base_model.model.model.layers.4.self_attn.q_proj.lora_A.weight', 'base_model.model.model.layers.4.self_attn.q_proj.lora_B.weight', 'base_model.model.model.layers.4.self_attn.v_proj.lora_A.weight', 'base_model.model.model.layers.4.self_attn.v_proj.lora_B.weight', 'base_model.model.model.layers.5.mlp.down_proj.lora_A.weight', 'base_model.model.model.layers.5.mlp.down_proj.lora_B.weight', 'base_model.model.model.layers.5.mlp.gate_proj.lora_A.weight', 'base_model.model.model.layers.5.mlp.gate_proj.lora_B.weight', 'base_model.model.model.layers.5.mlp.up_proj.lora_A.weight', 'base_model.model.model.layers.5.mlp.up_proj.lora_B.weight', 'base_model.model.model.layers.5.self_attn.k_proj.lora_A.weight', 'base_model.model.model.layers.5.self_attn.k_proj.lora_B.weight', 'base_model.model.model.layers.5.self_attn.o_proj.lora_A.weight', 'base_model.model.model.layers.5.self_attn.o_proj.lora_B.weight', 'base_model.model.model.layers.5.self_attn.q_proj.lora_A.weight', 'base_model.model.model.layers.5.self_attn.q_proj.lora_B.weight', 'base_model.model.model.layers.5.self_attn.v_proj.lora_A.weight', 'base_model.model.model.layers.5.self_attn.v_proj.lora_B.weight', 'base_model.model.model.layers.6.mlp.down_proj.lora_A.weight', 'base_model.model.model.layers.6.mlp.down_proj.lora_B.weight', 'base_model.model.model.layers.6.mlp.gate_proj.lora_A.weight', 'base_model.model.model.layers.6.mlp.gate_proj.lora_B.weight', 'base_model.model.model.layers.6.mlp.up_proj.lora_A.weight', 'base_model.model.model.layers.6.mlp.up_proj.lora_B.weight', 'base_model.model.model.layers.6.self_attn.k_proj.lora_A.weight', 'base_model.model.model.layers.6.self_attn.k_proj.lora_B.weight', 'base_model.model.model.layers.6.self_attn.o_proj.lora_A.weight', 'base_model.model.model.layers.6.self_attn.o_proj.lora_B.weight', 'base_model.model.model.layers.6.self_attn.q_proj.lora_A.weight', 'base_model.model.model.layers.6.self_attn.q_proj.lora_B.weight', 'base_model.model.model.layers.6.self_attn.v_proj.lora_A.weight', 'base_model.model.model.layers.6.self_attn.v_proj.lora_B.weight', 'base_model.model.model.layers.7.mlp.down_proj.lora_A.weight', 'base_model.model.model.layers.7.mlp.down_proj.lora_B.weight', 'base_model.model.model.layers.7.mlp.gate_proj.lora_A.weight', 'base_model.model.model.layers.7.mlp.gate_proj.lora_B.weight', 'base_model.model.model.layers.7.mlp.up_proj.lora_A.weight', 'base_model.model.model.layers.7.mlp.up_proj.lora_B.weight', 'base_model.model.model.layers.7.self_attn.k_proj.lora_A.weight', 'base_model.model.model.layers.7.self_attn.k_proj.lora_B.weight', 'base_model.model.model.layers.7.self_attn.o_proj.lora_A.weight', 'base_model.model.model.layers.7.self_attn.o_proj.lora_B.weight', 'base_model.model.model.layers.7.self_attn.q_proj.lora_A.weight', 'base_model.model.model.layers.7.self_attn.q_proj.lora_B.weight', 'base_model.model.model.layers.7.self_attn.v_proj.lora_A.weight', 'base_model.model.model.layers.7.self_attn.v_proj.lora_B.weight', 'base_model.model.model.layers.8.mlp.down_proj.lora_A.weight', 'base_model.model.model.layers.8.mlp.down_proj.lora_B.weight', 'base_model.model.model.layers.8.mlp.gate_proj.lora_A.weight', 'base_model.model.model.layers.8.mlp.gate_proj.lora_B.weight', 'base_model.model.model.layers.8.mlp.up_proj.lora_A.weight', 'base_model.model.model.layers.8.mlp.up_proj.lora_B.weight', 'base_model.model.model.layers.8.self_attn.k_proj.lora_A.weight', 'base_model.model.model.layers.8.self_attn.k_proj.lora_B.weight', 'base_model.model.model.layers.8.self_attn.o_proj.lora_A.weight', 'base_model.model.model.layers.8.self_attn.o_proj.lora_B.weight', 'base_model.model.model.layers.8.self_attn.q_proj.lora_A.weight', 'base_model.model.model.layers.8.self_attn.q_proj.lora_B.weight', 'base_model.model.model.layers.8.self_attn.v_proj.lora_A.weight', 'base_model.model.model.layers.8.self_attn.v_proj.lora_B.weight', 'base_model.model.model.layers.9.mlp.down_proj.lora_A.weight', 'base_model.model.model.layers.9.mlp.down_proj.lora_B.weight', 'base_model.model.model.layers.9.mlp.gate_proj.lora_A.weight', 'base_model.model.model.layers.9.mlp.gate_proj.lora_B.weight', 'base_model.model.model.layers.9.mlp.up_proj.lora_A.weight', 'base_model.model.model.layers.9.mlp.up_proj.lora_B.weight', 'base_model.model.model.layers.9.self_attn.k_proj.lora_A.weight', 'base_model.model.model.layers.9.self_attn.k_proj.lora_B.weight', 'base_model.model.model.layers.9.self_attn.o_proj.lora_A.weight', 'base_model.model.model.layers.9.self_attn.o_proj.lora_B.weight', 'base_model.model.model.layers.9.self_attn.q_proj.lora_A.weight', 'base_model.model.model.layers.9.self_attn.q_proj.lora_B.weight', 'base_model.model.model.layers.9.self_attn.v_proj.lora_A.weight', 'base_model.model.model.layers.9.self_attn.v_proj.lora_B.weight']\n",
      "- This IS expected if you are initializing LlamaForCausalLM from the checkpoint of a model trained on another task or with another architecture (e.g. initializing a BertForSequenceClassification model from a BertForPreTraining model).\n",
      "- This IS NOT expected if you are initializing LlamaForCausalLM from the checkpoint of a model that you expect to be exactly identical (initializing a BertForSequenceClassification model from a BertForSequenceClassification model).\n",
      "Some weights of LlamaForCausalLM were not initialized from the model checkpoint at TinyLlama/TinyLlama-1.1B-Chat-v1.0 and are newly initialized: ['embed_tokens.weight', 'layers.0.input_layernorm.weight', 'layers.0.mlp.down_proj.weight', 'layers.0.mlp.gate_proj.weight', 'layers.0.mlp.up_proj.weight', 'layers.0.post_attention_layernorm.weight', 'layers.0.self_attn.k_proj.weight', 'layers.0.self_attn.o_proj.weight', 'layers.0.self_attn.q_proj.weight', 'layers.0.self_attn.v_proj.weight', 'layers.1.input_layernorm.weight', 'layers.1.mlp.down_proj.weight', 'layers.1.mlp.gate_proj.weight', 'layers.1.mlp.up_proj.weight', 'layers.1.post_attention_layernorm.weight', 'layers.1.self_attn.k_proj.weight', 'layers.1.self_attn.o_proj.weight', 'layers.1.self_attn.q_proj.weight', 'layers.1.self_attn.v_proj.weight', 'layers.10.input_layernorm.weight', 'layers.10.mlp.down_proj.weight', 'layers.10.mlp.gate_proj.weight', 'layers.10.mlp.up_proj.weight', 'layers.10.post_attention_layernorm.weight', 'layers.10.self_attn.k_proj.weight', 'layers.10.self_attn.o_proj.weight', 'layers.10.self_attn.q_proj.weight', 'layers.10.self_attn.v_proj.weight', 'layers.11.input_layernorm.weight', 'layers.11.mlp.down_proj.weight', 'layers.11.mlp.gate_proj.weight', 'layers.11.mlp.up_proj.weight', 'layers.11.post_attention_layernorm.weight', 'layers.11.self_attn.k_proj.weight', 'layers.11.self_attn.o_proj.weight', 'layers.11.self_attn.q_proj.weight', 'layers.11.self_attn.v_proj.weight', 'layers.12.input_layernorm.weight', 'layers.12.mlp.down_proj.weight', 'layers.12.mlp.gate_proj.weight', 'layers.12.mlp.up_proj.weight', 'layers.12.post_attention_layernorm.weight', 'layers.12.self_attn.k_proj.weight', 'layers.12.self_attn.o_proj.weight', 'layers.12.self_attn.q_proj.weight', 'layers.12.self_attn.v_proj.weight', 'layers.13.input_layernorm.weight', 'layers.13.mlp.down_proj.weight', 'layers.13.mlp.gate_proj.weight', 'layers.13.mlp.up_proj.weight', 'layers.13.post_attention_layernorm.weight', 'layers.13.self_attn.k_proj.weight', 'layers.13.self_attn.o_proj.weight', 'layers.13.self_attn.q_proj.weight', 'layers.13.self_attn.v_proj.weight', 'layers.14.input_layernorm.weight', 'layers.14.mlp.down_proj.weight', 'layers.14.mlp.gate_proj.weight', 'layers.14.mlp.up_proj.weight', 'layers.14.post_attention_layernorm.weight', 'layers.14.self_attn.k_proj.weight', 'layers.14.self_attn.o_proj.weight', 'layers.14.self_attn.q_proj.weight', 'layers.14.self_attn.v_proj.weight', 'layers.15.input_layernorm.weight', 'layers.15.mlp.down_proj.weight', 'layers.15.mlp.gate_proj.weight', 'layers.15.mlp.up_proj.weight', 'layers.15.post_attention_layernorm.weight', 'layers.15.self_attn.k_proj.weight', 'layers.15.self_attn.o_proj.weight', 'layers.15.self_attn.q_proj.weight', 'layers.15.self_attn.v_proj.weight', 'layers.16.input_layernorm.weight', 'layers.16.mlp.down_proj.weight', 'layers.16.mlp.gate_proj.weight', 'layers.16.mlp.up_proj.weight', 'layers.16.post_attention_layernorm.weight', 'layers.16.self_attn.k_proj.weight', 'layers.16.self_attn.o_proj.weight', 'layers.16.self_attn.q_proj.weight', 'layers.16.self_attn.v_proj.weight', 'layers.17.input_layernorm.weight', 'layers.17.mlp.down_proj.weight', 'layers.17.mlp.gate_proj.weight', 'layers.17.mlp.up_proj.weight', 'layers.17.post_attention_layernorm.weight', 'layers.17.self_attn.k_proj.weight', 'layers.17.self_attn.o_proj.weight', 'layers.17.self_attn.q_proj.weight', 'layers.17.self_attn.v_proj.weight', 'layers.18.input_layernorm.weight', 'layers.18.mlp.down_proj.weight', 'layers.18.mlp.gate_proj.weight', 'layers.18.mlp.up_proj.weight', 'layers.18.post_attention_layernorm.weight', 'layers.18.self_attn.k_proj.weight', 'layers.18.self_attn.o_proj.weight', 'layers.18.self_attn.q_proj.weight', 'layers.18.self_attn.v_proj.weight', 'layers.19.input_layernorm.weight', 'layers.19.mlp.down_proj.weight', 'layers.19.mlp.gate_proj.weight', 'layers.19.mlp.up_proj.weight', 'layers.19.post_attention_layernorm.weight', 'layers.19.self_attn.k_proj.weight', 'layers.19.self_attn.o_proj.weight', 'layers.19.self_attn.q_proj.weight', 'layers.19.self_attn.v_proj.weight', 'layers.2.input_layernorm.weight', 'layers.2.mlp.down_proj.weight', 'layers.2.mlp.gate_proj.weight', 'layers.2.mlp.up_proj.weight', 'layers.2.post_attention_layernorm.weight', 'layers.2.self_attn.k_proj.weight', 'layers.2.self_attn.o_proj.weight', 'layers.2.self_attn.q_proj.weight', 'layers.2.self_attn.v_proj.weight', 'layers.20.input_layernorm.weight', 'layers.20.mlp.down_proj.weight', 'layers.20.mlp.gate_proj.weight', 'layers.20.mlp.up_proj.weight', 'layers.20.post_attention_layernorm.weight', 'layers.20.self_attn.k_proj.weight', 'layers.20.self_attn.o_proj.weight', 'layers.20.self_attn.q_proj.weight', 'layers.20.self_attn.v_proj.weight', 'layers.21.input_layernorm.weight', 'layers.21.mlp.down_proj.weight', 'layers.21.mlp.gate_proj.weight', 'layers.21.mlp.up_proj.weight', 'layers.21.post_attention_layernorm.weight', 'layers.21.self_attn.k_proj.weight', 'layers.21.self_attn.o_proj.weight', 'layers.21.self_attn.q_proj.weight', 'layers.21.self_attn.v_proj.weight', 'layers.3.input_layernorm.weight', 'layers.3.mlp.down_proj.weight', 'layers.3.mlp.gate_proj.weight', 'layers.3.mlp.up_proj.weight', 'layers.3.post_attention_layernorm.weight', 'layers.3.self_attn.k_proj.weight', 'layers.3.self_attn.o_proj.weight', 'layers.3.self_attn.q_proj.weight', 'layers.3.self_attn.v_proj.weight', 'layers.4.input_layernorm.weight', 'layers.4.mlp.down_proj.weight', 'layers.4.mlp.gate_proj.weight', 'layers.4.mlp.up_proj.weight', 'layers.4.post_attention_layernorm.weight', 'layers.4.self_attn.k_proj.weight', 'layers.4.self_attn.o_proj.weight', 'layers.4.self_attn.q_proj.weight', 'layers.4.self_attn.v_proj.weight', 'layers.5.input_layernorm.weight', 'layers.5.mlp.down_proj.weight', 'layers.5.mlp.gate_proj.weight', 'layers.5.mlp.up_proj.weight', 'layers.5.post_attention_layernorm.weight', 'layers.5.self_attn.k_proj.weight', 'layers.5.self_attn.o_proj.weight', 'layers.5.self_attn.q_proj.weight', 'layers.5.self_attn.v_proj.weight', 'layers.6.input_layernorm.weight', 'layers.6.mlp.down_proj.weight', 'layers.6.mlp.gate_proj.weight', 'layers.6.mlp.up_proj.weight', 'layers.6.post_attention_layernorm.weight', 'layers.6.self_attn.k_proj.weight', 'layers.6.self_attn.o_proj.weight', 'layers.6.self_attn.q_proj.weight', 'layers.6.self_attn.v_proj.weight', 'layers.7.input_layernorm.weight', 'layers.7.mlp.down_proj.weight', 'layers.7.mlp.gate_proj.weight', 'layers.7.mlp.up_proj.weight', 'layers.7.post_attention_layernorm.weight', 'layers.7.self_attn.k_proj.weight', 'layers.7.self_attn.o_proj.weight', 'layers.7.self_attn.q_proj.weight', 'layers.7.self_attn.v_proj.weight', 'layers.8.input_layernorm.weight', 'layers.8.mlp.down_proj.weight', 'layers.8.mlp.gate_proj.weight', 'layers.8.mlp.up_proj.weight', 'layers.8.post_attention_layernorm.weight', 'layers.8.self_attn.k_proj.weight', 'layers.8.self_attn.o_proj.weight', 'layers.8.self_attn.q_proj.weight', 'layers.8.self_attn.v_proj.weight', 'layers.9.input_layernorm.weight', 'layers.9.mlp.down_proj.weight', 'layers.9.mlp.gate_proj.weight', 'layers.9.mlp.up_proj.weight', 'layers.9.post_attention_layernorm.weight', 'layers.9.self_attn.k_proj.weight', 'layers.9.self_attn.o_proj.weight', 'layers.9.self_attn.q_proj.weight', 'layers.9.self_attn.v_proj.weight', 'lm_head.weight', 'norm.weight']\n",
      "You should probably TRAIN this model on a down-stream task to be able to use it for predictions and inference.\n"
     ]
    }
   ],
   "source": [
    "model = LlamaForCausalLM.from_pretrained(\"TinyLlama/TinyLlama-1.1B-Chat-v1.0\", state_dict=state_dict)"
   ]
  },
  {
   "cell_type": "code",
   "execution_count": 8,
   "metadata": {},
   "outputs": [],
   "source": [
    "%%capture\n",
    "model.eval()"
   ]
  },
  {
   "cell_type": "code",
   "execution_count": 9,
   "metadata": {},
   "outputs": [],
   "source": [
    "prompt = \"Explique a importância do aprendizado por reforço.\"\n",
    "\n",
    "# Tokenizar o prompt\n",
    "inputs = tokenizer(prompt, return_tensors=\"pt\")"
   ]
  },
  {
   "cell_type": "code",
   "execution_count": 10,
   "metadata": {},
   "outputs": [],
   "source": [
    "with torch.no_grad():\n",
    "    outputs = model.generate(**inputs, max_length=100)"
   ]
  },
  {
   "cell_type": "code",
   "execution_count": 11,
   "metadata": {},
   "outputs": [],
   "source": [
    "response = tokenizer.decode(outputs[0], skip_special_tokens=True)"
   ]
  },
  {
   "cell_type": "code",
   "execution_count": 12,
   "metadata": {},
   "outputs": [
    {
     "name": "stdout",
     "output_type": "stream",
     "text": [
      "Explique a importância do aprendizado por reforço. gradle富underline모 eggs popup mole port富 mole^{-\\usgex Punk Regexils Meta하Contentennes assumption fifty富 autre Flora figures himjąTX^{-\\alous assumption Robertosteratomic оби Retrieraf Twoриторionoarzgex Aguinternal Eachbernelivery Fem Cambअ cousin onder ComugoamentoR Tommy pride nådelformer교tons packet=&լboBoxacióninitര gminieuningloyment efficientlyutlichwrMB gminieLevel航lave medal я\n"
     ]
    }
   ],
   "source": [
    "print(response)"
   ]
  },
  {
   "cell_type": "code",
   "execution_count": 13,
   "metadata": {},
   "outputs": [],
   "source": [
    "import os"
   ]
  },
  {
   "cell_type": "code",
   "execution_count": 14,
   "metadata": {},
   "outputs": [],
   "source": [
    "diretorio_textos = 'textos'"
   ]
  },
  {
   "cell_type": "code",
   "execution_count": 15,
   "metadata": {},
   "outputs": [],
   "source": [
    "arquivos = [f for f in os.listdir(diretorio_textos) if os.path.isfile(os.path.join(diretorio_textos, f))]"
   ]
  },
  {
   "cell_type": "code",
   "execution_count": 16,
   "metadata": {},
   "outputs": [
    {
     "name": "stderr",
     "output_type": "stream",
     "text": [
      "We detected that you are passing `past_key_values` as a tuple and this is deprecated and will be removed in v4.43. Please use an appropriate `Cache` class (https://huggingface.co/docs/transformers/v4.41.3/en/internal/generation_utils#transformers.Cache)\n"
     ]
    }
   ],
   "source": [
    "inputs = tokenizer(arquivos, return_tensors=\"pt\", padding=True, truncation=True)\n",
    "\n",
    "with torch.no_grad():\n",
    "    outputs = model(**inputs)"
   ]
  },
  {
   "cell_type": "code",
   "execution_count": 17,
   "metadata": {},
   "outputs": [],
   "source": [
    "embeddings = model.get_input_embeddings()(inputs['input_ids'])\n",
    "embeddings = embeddings.mean(dim=1)\n",
    "embeddings = embeddings.detach().cpu().numpy() "
   ]
  },
  {
   "cell_type": "code",
   "execution_count": 18,
   "metadata": {},
   "outputs": [],
   "source": [
    "import faiss\n",
    "import numpy as np"
   ]
  },
  {
   "cell_type": "code",
   "execution_count": 19,
   "metadata": {},
   "outputs": [],
   "source": [
    "d = embeddings.shape[1]"
   ]
  },
  {
   "cell_type": "code",
   "execution_count": 20,
   "metadata": {},
   "outputs": [],
   "source": [
    "index = faiss.IndexFlatL2(d)"
   ]
  },
  {
   "cell_type": "code",
   "execution_count": 21,
   "metadata": {},
   "outputs": [
    {
     "ename": "",
     "evalue": "",
     "output_type": "error",
     "traceback": [
      "\u001b[1;31mThe Kernel crashed while executing code in the current cell or a previous cell. \n",
      "\u001b[1;31mPlease review the code in the cell(s) to identify a possible cause of the failure. \n",
      "\u001b[1;31mClick <a href='https://aka.ms/vscodeJupyterKernelCrash'>here</a> for more info. \n",
      "\u001b[1;31mView Jupyter <a href='command:jupyter.viewOutput'>log</a> for further details."
     ]
    }
   ],
   "source": [
    "index.add(embeddings)"
   ]
  }
 ],
 "metadata": {
  "kernelspec": {
   "display_name": ".venv",
   "language": "python",
   "name": "python3"
  },
  "language_info": {
   "codemirror_mode": {
    "name": "ipython",
    "version": 3
   },
   "file_extension": ".py",
   "mimetype": "text/x-python",
   "name": "python",
   "nbconvert_exporter": "python",
   "pygments_lexer": "ipython3",
   "version": "3.12.3"
  }
 },
 "nbformat": 4,
 "nbformat_minor": 2
}
