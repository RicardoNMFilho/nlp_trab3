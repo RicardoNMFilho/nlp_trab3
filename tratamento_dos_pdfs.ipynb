{
  "nbformat": 4,
  "nbformat_minor": 0,
  "metadata": {
    "colab": {
      "provenance": []
    },
    "kernelspec": {
      "name": "python3",
      "display_name": "Python 3"
    },
    "language_info": {
      "name": "python"
    }
  },
  "cells": [
    {
      "cell_type": "code",
      "source": [
        "%%capture\n",
        "!apt-get install poppler-utils tesseract-ocr tesseract-ocr-por\n",
        "!pip install PyMuPDF pytesseract pdf2image opencv-python"
      ],
      "metadata": {
        "id": "WXBb9xwyOgwv"
      },
      "execution_count": null,
      "outputs": []
    },
    {
      "cell_type": "code",
      "source": [
        "import fitz  # PyMuPDF\n",
        "import pytesseract\n",
        "import cv2\n",
        "import os\n",
        "import numpy as np\n",
        "from pdf2image import convert_from_path\n",
        "from textblob import TextBlob"
      ],
      "metadata": {
        "id": "4vsQ9ji5Oi96"
      },
      "execution_count": null,
      "outputs": []
    },
    {
      "cell_type": "markdown",
      "source": [
        "## Captura dos Arquivos"
      ],
      "metadata": {
        "id": "zAu4TRnJCas8"
      }
    },
    {
      "cell_type": "code",
      "source": [
        "from google.colab import drive\n",
        "drive.mount('/content/drive')"
      ],
      "metadata": {
        "colab": {
          "base_uri": "https://localhost:8080/"
        },
        "id": "MKZuo8bwCd1y",
        "outputId": "6f2c50a3-89d5-42a1-9a24-e8666e85161b"
      },
      "execution_count": null,
      "outputs": [
        {
          "output_type": "stream",
          "name": "stdout",
          "text": [
            "Drive already mounted at /content/drive; to attempt to forcibly remount, call drive.mount(\"/content/drive\", force_remount=True).\n"
          ]
        }
      ]
    },
    {
      "cell_type": "code",
      "source": [
        "legislacao_path = '/content/drive/MyDrive/_Graduacao/periodo7/NLP/pln_trabFinal_agataBrazao_ricardoMiranda/legislacao/'\n",
        "legislacao_pdfs = os.listdir(legislacao_path)\n",
        "print(legislacao_pdfs)"
      ],
      "metadata": {
        "colab": {
          "base_uri": "https://localhost:8080/"
        },
        "id": "fXQPcSJ4LHJs",
        "outputId": "e4d0a4c3-ff49-4489-d81f-680278248709"
      },
      "execution_count": null,
      "outputs": [
        {
          "output_type": "stream",
          "name": "stdout",
          "text": [
            "['res_18_2007_ativ_complemtares.pdf', 'port_05_2020_aproveit_disci_do_pibid.pdf', 'resolução_021_2007_consepe_aproveit_estudos.pdf', 'res_23_2017_regime_didático.pdf', 'res_070_2011_afinidade_cursos.pdf', 'res_38_2015_aceleração_de_estudos.pdf', 'res_10_2016_disciplinas_presenciais.pdf', 'res_18_93_créd_optativos.pdf', 'res_2_2015_cne_diretcurric_nacionais.pdf', 'res_32_2016_boletim_diário_classe.pdf', 'port_2304_95_nada_consta.pdf', 'res_69_2010_curso_de_férias.pdf', 'res_20_2019_criação_ext_modificação_curricular.pdf', 'lei_carteira_estudantil.pdf', 'port_048_2019_heteroidentificação.pdf', 'estatuto_da_ufam.pdf', 'estágio_de_graduação.pdf', 'res_31_2015_entrega_revisão_exerc_e_provas.pdf', 'portaria_no_1.095_de_25_de_outubro_de_2018_imprensa_nacional.pdf', 'resolução_027_2010_enade.pdf', 'resolução_cne_diretcurricnacionais_out2019.pdf', 'resolução_081_2007_consuni.pdf', 'resolução_010_2007_consad.pdf', 'resolução_010_2004_consuni.pdf', 'portaria_301_1998.pdf', 'lei_9.394_1996_diret_bases_educ_nacional.pdf', 'decreto_2561_1998.pdf', 'res_018_2012_oferta_disc_por_semestre.pdf', 'res_62_2011_nuc_docentes_estruturantes.pdf', 'oficio_mec_nomclat_cursos.pdf', 'res_08_2015_nome_social.pdf', 'res_06_2013_estab_programa_monitoria.pdf', 'port_proeg_propesp_001_2004_programa_mobilidade_.pdf', 'res_030_2015_exclusão_de_alunos_jubilamento.pdf', 'res_26_2007_inclusão_inf_alunos_disc_turmas.pdf', 'resolução_026_2007_consepe_ceg-1.pdf', 'resolução_019_2012_matricula_em_disciplina.pdf', 'resolução_013_2009_consepe.pdf', 'lei_nº_12.089_2009.pdf', 'lei_nº_10.436_2002.pdf', 'lei_10.098_2000_libras.pdf', 'decreto_5.626_05_língua_brasileira_de_sinais.pdf', 'res_048_2009_consepe_segunda_chamada.pdf', 'res_64_2011_priimes.pdf', 'port_04_2002_prazo_ret_documentos.pdf', 'resolução_047_2014_extramacro.pdf', 'decreto_1044_69_afecções_orgânicas.pdf', 'port_53_plano_de_ação_cursos_2018.pdf', 'sei_ufam_1225020_resolução.pdf', 'resolução_009_1999_consuni.pdf', 'portaria_3.385_2005_mec.pdf', 'portaria_1.632_2006_pet.pdf', 'regimento_ufam.pdf', 'resolução_022_livrosbiblioteca.pdf', 'res_037_2011_tempo_máximo_graduação.pdf', 'res_011_2007_tranc_matrícula.pdf', 'res_15_2018_trab_voluntario.pdf', 'res_06_2016_trote.pdf', 'decreto_2494_1998_educação_a_distância.pdf', 'resolução_044_2015_bonificação.pdf']\n"
          ]
        }
      ]
    },
    {
      "cell_type": "markdown",
      "source": [
        "## Funções"
      ],
      "metadata": {
        "id": "Y-qMM7A66P9U"
      }
    },
    {
      "cell_type": "code",
      "execution_count": null,
      "metadata": {
        "id": "6y-QWNWKJQGs"
      },
      "outputs": [],
      "source": [
        "def extract_text_from_pdf(pdf_path):\n",
        "    doc = fitz.open(pdf_path)\n",
        "    text = \"\"\n",
        "    for page in doc:\n",
        "        text += page.get_text()\n",
        "    return text"
      ]
    },
    {
      "cell_type": "code",
      "source": [
        "# tesseract para português\n",
        "pytesseract.pytesseract.tesseract_cmd = r'/usr/bin/tesseract'\n",
        "tessdata_dir_config = r'--tessdata-dir \"/usr/share/tesseract-ocr/4.00/tessdata/\" -l por'\n",
        "\n",
        "def preprocess_image(image):\n",
        "    # escala de cinza\n",
        "    gray = cv2.cvtColor(image, cv2.COLOR_BGR2GRAY)\n",
        "    # desfocagem\n",
        "    blurred = cv2.medianBlur(gray, 3)\n",
        "    # binarização\n",
        "    _, binary = cv2.threshold(blurred, 0, 255, cv2.THRESH_BINARY + cv2.THRESH_OTSU)\n",
        "\n",
        "    return binary\n",
        "\n",
        "\n",
        "def extract_text_from_scanned_pdf(pdf_path):\n",
        "    # Converter PDF para imagens\n",
        "    images = convert_from_path(pdf_path)\n",
        "    text = \"\"\n",
        "    for image in images:\n",
        "        # Converter a imagem PIL para um array numpy\n",
        "        open_cv_image = cv2.cvtColor(np.array(image), cv2.COLOR_RGB2BGR)\n",
        "        # Pré-processar a imagem\n",
        "        preprocessed_image = preprocess_image(open_cv_image)\n",
        "        # Extrair texto usando Tesseract\n",
        "        extracted_text = pytesseract.image_to_string(preprocessed_image, config=tessdata_dir_config)\n",
        "        # Adicionar o texto extraído ao resultado final\n",
        "        text += extracted_text + \"\\n\"\n",
        "\n",
        "    return text\n"
      ],
      "metadata": {
        "id": "_U9l-C_76YVe"
      },
      "execution_count": null,
      "outputs": []
    },
    {
      "cell_type": "code",
      "source": [
        "def is_scanned_pdf(file_path):\n",
        "    doc = fitz.open(file_path)\n",
        "    has_text = False\n",
        "    has_images = False\n",
        "\n",
        "    for page_num in range(len(doc)):\n",
        "        page = doc.load_page(page_num)\n",
        "        text = page.get_text()\n",
        "        if text.strip():\n",
        "            has_text = True\n",
        "        images = page.get_images(full=True)\n",
        "        if images:\n",
        "            has_images = True\n",
        "\n",
        "    return not has_text and has_images\n",
        "\n",
        "def extract_text(pdf_path):\n",
        "  print(\"Iniciando verificação...\")\n",
        "  if is_scanned_pdf(pdf_path):\n",
        "    print(\"Iniciando extração de PDF Scanneado...\")\n",
        "    return extract_text_from_scanned_pdf(pdf_path)\n",
        "    print(\"PDF Scanneado Extraído!\")\n",
        "  else:\n",
        "    print(\"Iniciando extração de PDF Não Scanneado...\")\n",
        "    return extract_text_from_pdf(pdf_path)\n",
        "    print(\"PDF Não Scanneado Extraído!\")\n"
      ],
      "metadata": {
        "id": "B0jgN7qG_ada"
      },
      "execution_count": null,
      "outputs": []
    },
    {
      "cell_type": "markdown",
      "source": [
        ">> ."
      ],
      "metadata": {
        "id": "wsjXoFda6T_6"
      }
    },
    {
      "cell_type": "code",
      "source": [
        "text = extract_text_from_scanned_pdf(\"/content/res_32_2016_boletim_diário_classe.pdf\")\n",
        "with open(\"/content/res_32_2016_boletim_diário_classe.txt\", 'w', encoding='utf-8') as txt_file:\n",
        "        txt_file.write(text)"
      ],
      "metadata": {
        "id": "xXegF2nYWDoj"
      },
      "execution_count": null,
      "outputs": []
    },
    {
      "cell_type": "code",
      "source": [
        "pdf_path = legislacao_path+legislacao_pdfs[41]\n",
        "text = extract_text(pdf_path)"
      ],
      "metadata": {
        "colab": {
          "base_uri": "https://localhost:8080/"
        },
        "id": "a-ZG_91xWs1b",
        "outputId": "d0335098-e1fa-42cc-bb4c-c8f44d97f92f"
      },
      "execution_count": null,
      "outputs": [
        {
          "output_type": "stream",
          "name": "stdout",
          "text": [
            "Iniciando verificação...\n",
            "Iniciando extração de PDF Scanneado...\n"
          ]
        }
      ]
    },
    {
      "cell_type": "code",
      "source": [
        "def linha(line):\n",
        "  new_line = ''\n",
        "\n",
        "  cond = False\n",
        "  for letter in line:\n",
        "    if letter == \"º\":\n",
        "      cond = True\n",
        "    elif cond:\n",
        "      new_line += letter\n",
        "\n",
        "  return new_line"
      ],
      "metadata": {
        "id": "-AGjZPv5e1R4"
      },
      "execution_count": null,
      "outputs": []
    },
    {
      "cell_type": "code",
      "source": [
        "def clean_text(text):\n",
        "  text = text.split('\\n')\n",
        "\n",
        "  list_text = []\n",
        "\n",
        "  for line in text:\n",
        "    if line == '' or line =='\\x0c' or line== ' ':\n",
        "      continue\n",
        "    list_text.append(line)\n",
        "\n",
        "  text = '\\n'.join(list_text)\n",
        "\n",
        "  return text"
      ],
      "metadata": {
        "id": "KaiPO7tfaz2x"
      },
      "execution_count": null,
      "outputs": []
    },
    {
      "cell_type": "code",
      "source": [
        "a = \"a aventura\\n vai começar\\n\\ntodos juntos vamos visitar\\n\\n \\n \\n aaaaaaaaaaaaaaaa\"\n",
        "\n",
        "print(clean_text(a))"
      ],
      "metadata": {
        "colab": {
          "base_uri": "https://localhost:8080/"
        },
        "id": "7dv4sKnanlk7",
        "outputId": "976d06d4-ea0f-47f0-a8e5-34f82bd96456"
      },
      "execution_count": null,
      "outputs": [
        {
          "output_type": "stream",
          "name": "stdout",
          "text": [
            "a aventura\n",
            " vai começar\n",
            "todos juntos vamos visitar\n",
            " aaaaaaaaaaaaaaaa\n"
          ]
        }
      ]
    },
    {
      "cell_type": "code",
      "source": [
        "count = 1\n",
        "for pdf in legislacao_pdfs:\n",
        "    print(f\"{count}/60\")\n",
        "    pdf_path = legislacao_path + pdf\n",
        "    text = extract_text(pdf_path)\n",
        "    # lógica para adicionar o texto em um arquivo .txt\n",
        "    txt_filename = f\"/content/textos/{pdf[:-4]}.txt\"\n",
        "    txt_path = os.path.join(legislacao_path, txt_filename)\n",
        "    with open(txt_path, 'w', encoding='utf-8') as txt_file:\n",
        "        txt_file.write(text)\n",
        "\n",
        "    count += 1"
      ],
      "metadata": {
        "colab": {
          "base_uri": "https://localhost:8080/"
        },
        "id": "yYbhmUTdbIos",
        "outputId": "40931d2d-de0a-4673-a508-3ce81dd1ba5e"
      },
      "execution_count": null,
      "outputs": [
        {
          "output_type": "stream",
          "name": "stdout",
          "text": [
            "1/60\n",
            "Iniciando verificação...\n",
            "Iniciando extração de PDF Scanneado...\n",
            "2/60\n",
            "Iniciando verificação...\n",
            "Iniciando extração de PDF Não Scanneado...\n",
            "3/60\n",
            "Iniciando verificação...\n",
            "Iniciando extração de PDF Não Scanneado...\n",
            "4/60\n",
            "Iniciando verificação...\n",
            "Iniciando extração de PDF Scanneado...\n",
            "5/60\n",
            "Iniciando verificação...\n",
            "Iniciando extração de PDF Scanneado...\n",
            "6/60\n",
            "Iniciando verificação...\n",
            "Iniciando extração de PDF Scanneado...\n",
            "7/60\n",
            "Iniciando verificação...\n",
            "Iniciando extração de PDF Não Scanneado...\n",
            "8/60\n",
            "Iniciando verificação...\n",
            "Iniciando extração de PDF Scanneado...\n",
            "9/60\n",
            "Iniciando verificação...\n",
            "Iniciando extração de PDF Não Scanneado...\n",
            "10/60\n",
            "Iniciando verificação...\n",
            "Iniciando extração de PDF Não Scanneado...\n",
            "11/60\n",
            "Iniciando verificação...\n",
            "Iniciando extração de PDF Scanneado...\n",
            "12/60\n",
            "Iniciando verificação...\n",
            "Iniciando extração de PDF Scanneado...\n",
            "13/60\n",
            "Iniciando verificação...\n",
            "Iniciando extração de PDF Scanneado...\n",
            "14/60\n",
            "Iniciando verificação...\n",
            "Iniciando extração de PDF Não Scanneado...\n",
            "15/60\n",
            "Iniciando verificação...\n",
            "Iniciando extração de PDF Não Scanneado...\n",
            "16/60\n",
            "Iniciando verificação...\n",
            "Iniciando extração de PDF Não Scanneado...\n",
            "17/60\n",
            "Iniciando verificação...\n",
            "Iniciando extração de PDF Não Scanneado...\n",
            "18/60\n",
            "Iniciando verificação...\n",
            "Iniciando extração de PDF Scanneado...\n",
            "19/60\n",
            "Iniciando verificação...\n",
            "Iniciando extração de PDF Não Scanneado...\n",
            "20/60\n",
            "Iniciando verificação...\n",
            "Iniciando extração de PDF Scanneado...\n",
            "21/60\n",
            "Iniciando verificação...\n",
            "Iniciando extração de PDF Não Scanneado...\n",
            "22/60\n",
            "Iniciando verificação...\n",
            "Iniciando extração de PDF Scanneado...\n",
            "23/60\n",
            "Iniciando verificação...\n",
            "Iniciando extração de PDF Scanneado...\n",
            "24/60\n",
            "Iniciando verificação...\n",
            "Iniciando extração de PDF Não Scanneado...\n",
            "25/60\n",
            "Iniciando verificação...\n",
            "Iniciando extração de PDF Scanneado...\n",
            "26/60\n",
            "Iniciando verificação...\n",
            "Iniciando extração de PDF Não Scanneado...\n",
            "27/60\n",
            "Iniciando verificação...\n",
            "Iniciando extração de PDF Scanneado...\n",
            "28/60\n",
            "Iniciando verificação...\n",
            "Iniciando extração de PDF Não Scanneado...\n",
            "29/60\n",
            "Iniciando verificação...\n",
            "Iniciando extração de PDF Scanneado...\n",
            "30/60\n",
            "Iniciando verificação...\n",
            "Iniciando extração de PDF Scanneado...\n",
            "31/60\n",
            "Iniciando verificação...\n",
            "Iniciando extração de PDF Scanneado...\n",
            "32/60\n",
            "Iniciando verificação...\n",
            "Iniciando extração de PDF Scanneado...\n",
            "33/60\n",
            "Iniciando verificação...\n",
            "Iniciando extração de PDF Scanneado...\n",
            "34/60\n",
            "Iniciando verificação...\n",
            "Iniciando extração de PDF Não Scanneado...\n",
            "35/60\n",
            "Iniciando verificação...\n",
            "Iniciando extração de PDF Scanneado...\n",
            "36/60\n",
            "Iniciando verificação...\n",
            "Iniciando extração de PDF Scanneado...\n",
            "37/60\n",
            "Iniciando verificação...\n",
            "Iniciando extração de PDF Não Scanneado...\n",
            "38/60\n",
            "Iniciando verificação...\n",
            "Iniciando extração de PDF Scanneado...\n",
            "39/60\n",
            "Iniciando verificação...\n",
            "Iniciando extração de PDF Não Scanneado...\n",
            "40/60\n",
            "Iniciando verificação...\n",
            "Iniciando extração de PDF Scanneado...\n",
            "41/60\n",
            "Iniciando verificação...\n",
            "Iniciando extração de PDF Não Scanneado...\n",
            "42/60\n",
            "Iniciando verificação...\n",
            "Iniciando extração de PDF Scanneado...\n",
            "43/60\n",
            "Iniciando verificação...\n",
            "Iniciando extração de PDF Scanneado...\n",
            "44/60\n",
            "Iniciando verificação...\n",
            "Iniciando extração de PDF Scanneado...\n",
            "45/60\n",
            "Iniciando verificação...\n",
            "Iniciando extração de PDF Scanneado...\n",
            "46/60\n",
            "Iniciando verificação...\n",
            "Iniciando extração de PDF Não Scanneado...\n",
            "47/60\n",
            "Iniciando verificação...\n",
            "Iniciando extração de PDF Não Scanneado...\n",
            "48/60\n",
            "Iniciando verificação...\n",
            "Iniciando extração de PDF Scanneado...\n",
            "49/60\n",
            "Iniciando verificação...\n",
            "Iniciando extração de PDF Não Scanneado...\n",
            "50/60\n",
            "Iniciando verificação...\n",
            "Iniciando extração de PDF Scanneado...\n",
            "51/60\n",
            "Iniciando verificação...\n",
            "Iniciando extração de PDF Não Scanneado...\n",
            "52/60\n",
            "Iniciando verificação...\n",
            "Iniciando extração de PDF Não Scanneado...\n",
            "53/60\n",
            "Iniciando verificação...\n",
            "Iniciando extração de PDF Não Scanneado...\n",
            "54/60\n",
            "Iniciando verificação...\n",
            "Iniciando extração de PDF Scanneado...\n",
            "55/60\n",
            "Iniciando verificação...\n",
            "Iniciando extração de PDF Scanneado...\n",
            "56/60\n",
            "Iniciando verificação...\n",
            "Iniciando extração de PDF Scanneado...\n",
            "57/60\n",
            "Iniciando verificação...\n",
            "Iniciando extração de PDF Scanneado...\n",
            "58/60\n",
            "Iniciando verificação...\n",
            "Iniciando extração de PDF Scanneado...\n",
            "59/60\n",
            "Iniciando verificação...\n",
            "Iniciando extração de PDF Scanneado...\n",
            "60/60\n",
            "Iniciando verificação...\n",
            "Iniciando extração de PDF Scanneado...\n"
          ]
        }
      ]
    }
  ]
}