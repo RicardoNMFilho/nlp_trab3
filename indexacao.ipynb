{
 "cells": [
  {
   "cell_type": "code",
   "execution_count": 3,
   "metadata": {},
   "outputs": [],
   "source": [
    "from whoosh.index import create_in\n",
    "from whoosh.fields import Schema, TEXT\n",
    "import os"
   ]
  },
  {
   "cell_type": "code",
   "execution_count": 4,
   "metadata": {},
   "outputs": [],
   "source": [
    "schema = Schema(title=TEXT(stored=True), content=TEXT(stored=True))"
   ]
  },
  {
   "cell_type": "code",
   "execution_count": 5,
   "metadata": {},
   "outputs": [],
   "source": [
    "if not os.path.exists(\"indexdir\"):\n",
    "    os.mkdir(\"indexdir\")"
   ]
  },
  {
   "cell_type": "code",
   "execution_count": 4,
   "metadata": {},
   "outputs": [],
   "source": [
    "ix = create_in(\"indexdir\", schema)"
   ]
  },
  {
   "cell_type": "code",
   "execution_count": 8,
   "metadata": {},
   "outputs": [],
   "source": [
    "from whoosh.index import open_dir\n",
    "from whoosh.writing import AsyncWriter"
   ]
  },
  {
   "cell_type": "code",
   "execution_count": 6,
   "metadata": {},
   "outputs": [],
   "source": [
    "def ler_arquivo(path):\n",
    "    with open(path, 'r', encoding='utf-8') as file:\n",
    "        return file.read()"
   ]
  },
  {
   "cell_type": "code",
   "execution_count": 7,
   "metadata": {},
   "outputs": [],
   "source": [
    "ix = open_dir(\"indexdir\")"
   ]
  },
  {
   "cell_type": "code",
   "execution_count": 8,
   "metadata": {},
   "outputs": [],
   "source": [
    "writer = AsyncWriter(ix)"
   ]
  },
  {
   "cell_type": "code",
   "execution_count": 9,
   "metadata": {},
   "outputs": [],
   "source": [
    "documentos = 'pre_processados\\\\textos'"
   ]
  },
  {
   "cell_type": "code",
   "execution_count": 10,
   "metadata": {},
   "outputs": [],
   "source": [
    "for file_name in os.listdir(documentos):\n",
    "    file_path = os.path.join(documentos, file_name)\n",
    "    if os.path.isfile(file_path):\n",
    "        content = ler_arquivo(file_path)\n",
    "        writer.add_document(title=file_name, content=content)"
   ]
  },
  {
   "cell_type": "code",
   "execution_count": 11,
   "metadata": {},
   "outputs": [],
   "source": [
    "writer.commit()"
   ]
  },
  {
   "cell_type": "code",
   "execution_count": 9,
   "metadata": {},
   "outputs": [],
   "source": [
    "from whoosh.qparser import QueryParser"
   ]
  },
  {
   "cell_type": "code",
   "execution_count": 10,
   "metadata": {},
   "outputs": [],
   "source": [
    "ix = open_dir(\"indexdir\")"
   ]
  },
  {
   "cell_type": "code",
   "execution_count": 12,
   "metadata": {},
   "outputs": [
    {
     "name": "stdout",
     "output_type": "stream",
     "text": [
      "sei_ufam_1225020_resolução.txt **Resolução n° 035, de 27 de outubro de 2022 - Regulamenta os procedimentos relativos às atividades práticas no âmbito dos cursos de graduação da UFAM, nas modalidades presencial e a distância.**\n",
      "\n",
      "**Capítulo I - Das Disposições Gerais**\n",
      "\n",
      "* Art. 1º: Define como atividades práticas, no âmbito dos cursos de graduação da UFAM, nas modalidades presencial e a distância, todas as atividades didático-pedagógicas de natureza prática, realizadas dentro ou fora da sala de aula, cuja finalidade é contribuir para a formação do discente e sua atuação no ambiente profissional, permitindo constante aperfeiçoamento e atualização.\n",
      "* Art. 2º: Compreendem as atividades práticas:\n",
      "\t+ I - Visita técnica;\n",
      "\t+ II - Prática de campo;\n",
      "\t+ III - Prática como componente curricular;\n",
      "\t+ IV - Aula prática;\n",
      "* ... (continua na próxima seção)\n",
      "\n",
      "**Capítulo II - Da Visita Técnica**\n",
      "\n",
      "* Art. 5º: A visita técnica deverá estar prevista no Plano de Ensino do componente curricular, o qual deve estar devidamente aprovado pelo Colegiado do Curso.\n",
      "* Art. 6º: São objetivos da visita técnica:\n",
      "\t+ I - Conduzir os discentes a estabelecer articulação entre o conteúdo teórico e prático;\n",
      "\t+ II - Exercitar as habilidades de observação, análise e crítica;\n",
      "\t+ III - Interagir criativamente em face dos diferentes contextos técnicos e produções;\n",
      "\t+ IV - Desenvolver o alinhamento do conhecimento sistematizado com a ação profissional;\n",
      "\t+ V - Buscar o desenvolvimento da visão sistêmica laboral;\n",
      "\t+ VI - Interagir com os diferentes profissionais da área e das outras áreas de conhecimento, com vistas a ampliar e aprofundar o conhecimento profissional por meio da interdisciplinaridade e da interprofissionalidade;\n",
      "\t+ VII - Estimular o discente à pesquisa científica e a pesquisa de campo no futuro ambiente de trabalho.\n",
      "* Art. 7º: São atribuições do docente responsável pela visita técnica:\n",
      "\t+ I - Intermediar, junto à empresa e/ou órgão concedente, a autorização da visita técnica, assim como a(s) data(s) e horário(s);\n",
      "\t+ II - Encaminhar à Coordenação de Curso, via SEI, solicitação de visita técnica, em até 10 (dez) dias úteis antes da realização desta, informando data(s), horário(s), local(is) pretendido(s) e dados do(s) responsável(is) pela autorização da visita técnica junto à empresa e/ou órgão concedente;\n",
      "\t+ ... (continua na próxima seção)\n",
      "\n",
      "**Capítulo III - Da Prática de Campo**\n",
      "\n",
      "* Art. 10: A prática de campo deverá estar prevista no Plano de Ensino do componente curricular e no Projeto de Prática de Campo, que devem estar devidamente aprovados pelo Colegiado do Curso.\n",
      "* Art. 11: ... (acontecimento irregular)\n",
      "\n",
      "**Nota:** O texto apresentado é a extractora e organização das informações legislativas presentes na resolução. Quaisquer erros ou inconsistências foram corrigidos e normalizados para facilitar a compreensão.\n",
      "**Artigo 12 - Objetivos da Práctica de Campo**\n",
      "\n",
      "* Contribuir para a melhoria da qualidade do ensino;\n",
      "* Assegurar o desenvolvimento de competências específicas para o exercício profissional, em conformidade com a proposta pedagógica do curso;\n",
      "* Desenvolver habilidades práticas previstas no plano de ensino do componente curricular;\n",
      "* Promover a articulação entre teoria e prática.\n",
      "\n",
      "**Artigo 13 - Atribuições do Docente Responsável**\n",
      "\n",
      "* Submeter o pedido de práctica de campo à Direção ou Coordenação Administração da Unidade Acadêmica;\n",
      "* Instruir o processo com documentos obrigatórios (projeto de práctica de campo, plano de ensino do componente curricular, ata de reunião do Colegiado de Curso, etc.);\n",
      "* Conceder diárias para docentes e técnicos participantes;\n",
      "* Cancelar o agendamento da práctica de campo em caso de impedimento;\n",
      "* Zelar pela segurança dos participantes;\n",
      "* Não permitir a participação de pessoas que não estejam envolvidas na práctica;\n",
      "* Orientar os discentes quanto a protocolos de segurança e hora de permanência no local da práctica;\n",
      "* Responsabilizar-se pelo cumprimento dos objetivos e atividades previstos no projeto;\n",
      "* Encaminhar o Relatório Final de Práctica de Campo à Coordenação de Curso.\n",
      "\n",
      "**Artigo 14 - Atribuições da Direção ou Coordenação Administração da Unidade Acadêmica**\n",
      "\n",
      "* Conferir se o pedido de práctica de campo está dentro do prazo de submissão e se o processo está devidamente instruído;\n",
      "* Cascadar os discentes que irão receber ajuda de custo em Lista de Credores (LC) gerada pelo Sistema Integrado de Administração Financeira (SIAFI);\n",
      "* Solicitar diárias para docentes/técnicos envolvidos na práctica de campo;\n",
      "* Realizar ATESTE (documento que confirma a veracidade das informações);\n",
      "* Realizar INFORMAÇÃO (documento que fornece informações sobre a práctica de campo);\n",
      "* Solicitar pagamento de ajuda de custo para os discentes envolvidos na práctica de campo;\n",
      "* Encaminhar o processo à PROADM.\n",
      "\n",
      "**Artigo 15 - Atribuições da Coordenação de Curso**\n",
      "\n",
      "* Analisar se a carga horária da práctica de campo está adequada à carga horária de aulas práticas prevista para o componente curricular no PPC;\n",
      "* Apreciar e deliberar sobre o Relatório Final de Atividades da Práctica de Campo do docente responsável.\n",
      "\n",
      "**Artigo 16 - Atribuições dos Discentes**\n",
      "\n",
      "* Confirmar sua participação na práctica de campo;\n",
      "* Informar data de nascimento, número do CPF, número da agência e conta corrente;\n",
      "* Não consumir bebidas alcoólicas e/ou quaisquer substâncias entorpecentes durante as atividades.\n",
      "\n",
      "**Artigo 17 - Devolução de Valores**\n",
      "\n",
      "* Caso algum dos envolvidos na práctica de campo tenha recebido valores de diárias ou ajuda de custo e não tenha participado da atividade, o docente responsável deve solicitar ao DFIN/PROPLAN emissão de GRU para fins de devolução dos valores recebidos.\n",
      "\n",
      "**CAPÍTULO IV - A Prática como Componente Curricular**\n",
      "\n",
      "* A práctica como componente curricular será realizada no ambiente da Insituição formadora e/ou, preferencialmente, no ambiente da escola;\n",
      "* A práctica como componente curricular deve configurar nas matrizes curriculares dos cursos de licenciatura com carga horária mínima de 400 (quatrocentas) horas;\n",
      "* Os cursos de licenciatura que tenham definido carga horária para a práctica como componente curricular inferior a 400 (quatrocentas) horas devem ajustar-se, imediatamente, ao que prevê essa normatização.\n",
      "\n",
      "**Artigo 18 - Objetivos da Prática como Componente Curricular**\n",
      "\n",
      "* Promover a aplicação dos conhecimentos advindos do curso de licenciatura em atividades técnico-pedagógicas de ensino desenvolvidas;\n",
      "* Aproximar os discentes da realidade escolar, levando-os a compreender as problemáticas e complexidades existentes no contexto da escola;\n",
      "* Envolver os discentes em atividades desenvolvidas por docentes atuantes na escola de educação básica, com vistas a aperfeiçoar o planejamento, execução e avaliação do processo ensino-aprendizagem;\n",
      "* Conhecer a instituição escolar no plano organizacional com base em seu Projeto Político Pedagógico (PPP);\n",
      "* Assegurar o exercício permanente da pesquisa nos ambientes escolares para compreender o ato de planejar, executar e avaliar situações de ensino-aprendizagem.\n",
      "\n",
      "**Artigo 20 - A Prática como Componente Curricular**\n",
      "\n",
      "* A práctica como componente curricular deve constar do Plano de Ensino do componente curricular, aprovado pelo Colegiado do Curso.\n",
      "* A práctica como componente curricular deve estar contemplada no PPC, com tempo e espaço curricular específico.\n",
      "\n",
      "**Artigo 21**\n",
      "\n",
      "(Contém informações que não podem ser extraídas, pois são irrelevantes para as informações legislativas)\n",
      "Aqui estão as informações legislativas extraídas e organizadas em seções claras:\n",
      "\n",
      "**Componente Curricular de Práctica**\n",
      "\n",
      "* São atribuições do docente responsável pela práctica:\n",
      "\t+ Promover o desenvolvimento da práctica como componente curricular;\n",
      "\t+ Acompanhar os discentes no cumprimento das atividades propostas;\n",
      "\t+ Desenvolver a avaliação do componente curricular voltada para o desempenho do discente.\n",
      "* Avaliação do desempenho do discente será conduzida pelo docente responsável pela práctica.\n",
      "\n",
      "**Coordenações dos Cursos de Licenciaturas**\n",
      "\n",
      "* São atribuições das Coordenações dos Cursos de licenciaturas:\n",
      "\t+ Acompanhar a elaboração do Plano de Trabalho Semestral de Práctica pelo docente responsável;\n",
      "\t+ Promover avaliações semestrais no âmbito do NDE e do colegiado de curso, sobre o desenvolvimento do componente curricular.\n",
      "* Caberá ao NDE e Colegiado do Curso de cada licenciatura nomear uma comissão de práctica como componente curricular, cuja responsabilidade será a de organizar as diretrizes do componente curricular de modo a abrigar as especificidades do curso, bem como regulamentar atos que não tenham sido abordados nesta Portaria.\n",
      "\n",
      "**Aula Prática**\n",
      "\n",
      "* Art. 23: A aula prática deverá estar prevista no Plano de Ensino do componente curricular.\n",
      "* Art. 24: Objetivos da aula prática:\n",
      "\t+ Contemplar a compreensão teórico-prática e consolidar a formação profissional do acadêmico;\n",
      "\t+ Desenvolver a capacidade de reflexão, construção de ideias e atitudes, além do conhecimento de procedimentos;\n",
      "\t+ Proporcionar a fixação dos conceitos apresentados nas aulas teóricas, principalmente os mais abstratos;\n",
      "\t+ Possibilitar o desenvolvimento de habilidades em investigações científicas e análise de dados.\n",
      "\n",
      "**Coordenação de Curso**\n",
      "\n",
      "* São atribuições do docente responsável pela aula prática:\n",
      "\t+ Planejamento, execução e avaliação da aula prática;\n",
      "\t+ Caso a aula prática seja realizada em laboratório estruturado: agendar com o técnico responsável pelo laboratório, cumprir e fazer cumprir as normas de utilização do laboratório, responsabilizar-se pelo uso correto e racional dos materiais, insumos e equipamentos.\n",
      "* São atribuições da Coordenação de Curso para aula prática:\n",
      "\t+ Analisar se a carga horária da aula prática está adequada à carga horária prevista para o componente curricular no PPC;\n",
      "\t+ Supervisionar os trabalhos desenvolvidos pelo(s) técnico(s) de laboratório;\n",
      "\t+ Acompanhar a execução do cronograma de agendamento de aulas práticas em laboratório;\n",
      "\t+ Zelar pelas condições de usabilidade dos laboratórios, solicitando à Direção da Unidade Acadêmica ou Coordenação Administraiva aquisição de materiais, insumos e equipamentos, bem como reparos naqueles que não estejam em condições de uso.\n",
      "\n",
      "**Disposições Finais e Transitorias**\n",
      "\n",
      "* Art. 27: O pagamento de diárias e ajuda de custo, quando cabível, deverão estar em conformidade com a legislação federal vigente e com as normas da UFAM.\n",
      "* Art. 28: Os possíveis danos causados aos entes públicos e/ou privados e/ou pessoas físicas, de natureza patrimonial e/ou extrapatrimonial, decorrentes das atividades práticas, serão apurados em conformidade com a legislação vigente.\n",
      "* Art. 29: A carga horária a ser computada por turno não deverá exceder 4 horas/aula, bem como o limite diário para o cômputo da carga horária deve ser de 8 horas/aula para cada docente participante da práctica, respeitando o limite da carga horária máxima para as aulas práticas informadas no PPC para o respectivo componente curricular.\n",
      "* Art. 30: O controle e acompanhamento da execução orçamentária serão realizados pela PROEG, até a descentralização orçamentária do custeio das práticas de campo, e posteriormente pelas Unidades Acadêmicas.\n",
      "* Art. 31: Os casos omissos nesta Resolução serão resolvidos pela Pró-Reitoria de Ensino de Graduação.\n",
      "* Art. 32: A presente Resolução entra em vigor na data de sua publicação, revogando-se a Portaria PROEG nº 57, de 27 de agosto de 2019 e demais disposições em contrário.\n",
      "\n"
     ]
    }
   ],
   "source": [
    "with ix.searcher() as searcher:\n",
    "    query = QueryParser(\"content\", ix.schema).parse(\"nota mínima\")\n",
    "    results = searcher.search(query, limit=5)\n",
    "\n",
    "    for result in results:\n",
    "        print(result['title'], result['content'])"
   ]
  }
 ],
 "metadata": {
  "kernelspec": {
   "display_name": ".venv",
   "language": "python",
   "name": "python3"
  },
  "language_info": {
   "codemirror_mode": {
    "name": "ipython",
    "version": 3
   },
   "file_extension": ".py",
   "mimetype": "text/x-python",
   "name": "python",
   "nbconvert_exporter": "python",
   "pygments_lexer": "ipython3",
   "version": "3.12.3"
  }
 },
 "nbformat": 4,
 "nbformat_minor": 2
}
